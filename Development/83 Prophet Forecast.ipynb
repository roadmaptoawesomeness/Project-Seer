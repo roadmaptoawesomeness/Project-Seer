{
 "cells": [
  {
   "cell_type": "code",
   "execution_count": 1,
   "metadata": {},
   "outputs": [],
   "source": [
    "import numpy as np\n",
    "import pandas as pd\n",
    "import itertools\n",
    "# import matplotlib.pyplot as plt\n",
    "\n",
    "from datetime import timedelta\n",
    "from time import time\n",
    "\n",
    "import pickle\n",
    "import os\n",
    "\n",
    "from dask.distributed import Client, progress\n",
    "import dask.bag as db\n",
    "\n",
    "# import edslab_prophet_dask as edd\n",
    "# import edslab_prophet as ed\n",
    "\n",
    "pd.options.display.float_format = '{:.2f}'.format\n",
    "pd.set_option('display.max_rows', 100)\n",
    "\n",
    "\n",
    "from fbprophet import Prophet"
   ]
  },
  {
   "cell_type": "code",
   "execution_count": 2,
   "metadata": {},
   "outputs": [
    {
     "data": {
      "text/html": [
       "<table style=\"border: 2px solid white;\">\n",
       "<tr>\n",
       "<td style=\"vertical-align: top; border: 0px solid white\">\n",
       "<h3>Client</h3>\n",
       "<ul>\n",
       "  <li><b>Scheduler: </b>tcp://127.0.0.1:56712\n",
       "  <li><b>Dashboard: </b><a href='http://127.0.0.1:8787/status' target='_blank'>http://127.0.0.1:8787/status</a>\n",
       "</ul>\n",
       "</td>\n",
       "<td style=\"vertical-align: top; border: 0px solid white\">\n",
       "<h3>Cluster</h3>\n",
       "<ul>\n",
       "  <li><b>Workers: </b>12</li>\n",
       "  <li><b>Cores: </b>12</li>\n",
       "  <li><b>Memory: </b>34.14 GB</li>\n",
       "</ul>\n",
       "</td>\n",
       "</tr>\n",
       "</table>"
      ],
      "text/plain": [
       "<Client: scheduler='tcp://127.0.0.1:56712' processes=12 cores=12>"
      ]
     },
     "execution_count": 2,
     "metadata": {},
     "output_type": "execute_result"
    }
   ],
   "source": [
    "client = Client(processes = True,n_workers=12)\n",
    "client"
   ]
  },
  {
   "cell_type": "code",
   "execution_count": 2,
   "metadata": {},
   "outputs": [],
   "source": [
    "path = 'D:/BUDS_MID/OJT ATM/ATM Forecasting Data New/'\n",
    "HP = pd.read_csv(path + 'Actual/Holidays_ALL.csv')"
   ]
  },
  {
   "cell_type": "code",
   "execution_count": 4,
   "metadata": {},
   "outputs": [],
   "source": [
    "old_rmse = pd.read_csv('D:/BUDS_MID/OJT ATM/ATM Forecasting Data/Prophet best model.csv', usecols=['atm','model','rmse'])\n",
    "old_rmse.columns=['tid','old_model','old_rmse']\n",
    "old_rmse.tid = old_rmse.tid.astype('str')"
   ]
  },
  {
   "cell_type": "code",
   "execution_count": 5,
   "metadata": {
    "collapsed": true
   },
   "outputs": [
    {
     "data": {
      "text/html": [
       "<div>\n",
       "<style scoped>\n",
       "    .dataframe tbody tr th:only-of-type {\n",
       "        vertical-align: middle;\n",
       "    }\n",
       "\n",
       "    .dataframe tbody tr th {\n",
       "        vertical-align: top;\n",
       "    }\n",
       "\n",
       "    .dataframe thead th {\n",
       "        text-align: right;\n",
       "    }\n",
       "</style>\n",
       "<table border=\"1\" class=\"dataframe\">\n",
       "  <thead>\n",
       "    <tr style=\"text-align: right;\">\n",
       "      <th></th>\n",
       "      <th>tid</th>\n",
       "      <th>old_model</th>\n",
       "      <th>old_rmse</th>\n",
       "    </tr>\n",
       "  </thead>\n",
       "  <tbody>\n",
       "    <tr>\n",
       "      <th>0</th>\n",
       "      <td>91018579</td>\n",
       "      <td>HP32</td>\n",
       "      <td>45327.06</td>\n",
       "    </tr>\n",
       "    <tr>\n",
       "      <th>1</th>\n",
       "      <td>91018853</td>\n",
       "      <td>HP05</td>\n",
       "      <td>71029.42</td>\n",
       "    </tr>\n",
       "    <tr>\n",
       "      <th>2</th>\n",
       "      <td>91017756</td>\n",
       "      <td>HP03</td>\n",
       "      <td>78171.41</td>\n",
       "    </tr>\n",
       "    <tr>\n",
       "      <th>3</th>\n",
       "      <td>91017824</td>\n",
       "      <td>HP03</td>\n",
       "      <td>83593.64</td>\n",
       "    </tr>\n",
       "    <tr>\n",
       "      <th>4</th>\n",
       "      <td>BR324</td>\n",
       "      <td>HP36</td>\n",
       "      <td>89855.17</td>\n",
       "    </tr>\n",
       "    <tr>\n",
       "      <th>...</th>\n",
       "      <td>...</td>\n",
       "      <td>...</td>\n",
       "      <td>...</td>\n",
       "    </tr>\n",
       "    <tr>\n",
       "      <th>459</th>\n",
       "      <td>BR163</td>\n",
       "      <td>HP32</td>\n",
       "      <td>1151344.66</td>\n",
       "    </tr>\n",
       "    <tr>\n",
       "      <th>460</th>\n",
       "      <td>BR996</td>\n",
       "      <td>HP36</td>\n",
       "      <td>1162954.27</td>\n",
       "    </tr>\n",
       "    <tr>\n",
       "      <th>461</th>\n",
       "      <td>BR129</td>\n",
       "      <td>HP06</td>\n",
       "      <td>1196989.52</td>\n",
       "    </tr>\n",
       "    <tr>\n",
       "      <th>462</th>\n",
       "      <td>BR981</td>\n",
       "      <td>HP36</td>\n",
       "      <td>1211367.02</td>\n",
       "    </tr>\n",
       "    <tr>\n",
       "      <th>463</th>\n",
       "      <td>BR354</td>\n",
       "      <td>HP34</td>\n",
       "      <td>1535306.17</td>\n",
       "    </tr>\n",
       "  </tbody>\n",
       "</table>\n",
       "<p>464 rows × 3 columns</p>\n",
       "</div>"
      ],
      "text/plain": [
       "          tid old_model   old_rmse\n",
       "0    91018579      HP32   45327.06\n",
       "1    91018853      HP05   71029.42\n",
       "2    91017756      HP03   78171.41\n",
       "3    91017824      HP03   83593.64\n",
       "4       BR324      HP36   89855.17\n",
       "..        ...       ...        ...\n",
       "459     BR163      HP32 1151344.66\n",
       "460     BR996      HP36 1162954.27\n",
       "461     BR129      HP06 1196989.52\n",
       "462     BR981      HP36 1211367.02\n",
       "463     BR354      HP34 1535306.17\n",
       "\n",
       "[464 rows x 3 columns]"
      ]
     },
     "execution_count": 5,
     "metadata": {},
     "output_type": "execute_result"
    }
   ],
   "source": [
    "old_rmse"
   ]
  },
  {
   "cell_type": "code",
   "execution_count": 23,
   "metadata": {},
   "outputs": [
    {
     "name": "stdout",
     "output_type": "stream",
     "text": [
      "<class 'pandas.core.frame.DataFrame'>\n",
      "RangeIndex: 8262 entries, 0 to 8261\n",
      "Data columns (total 5 columns):\n",
      " #   Column     Non-Null Count  Dtype  \n",
      "---  ------     --------------  -----  \n",
      " 0   tid        8262 non-null   object \n",
      " 1   model      8262 non-null   object \n",
      " 2   dev_rmse   8262 non-null   float64\n",
      " 3   val_rmse   8262 non-null   float64\n",
      " 4   mean_rmse  8262 non-null   float64\n",
      "dtypes: float64(3), object(2)\n",
      "memory usage: 322.9+ KB\n"
     ]
    }
   ],
   "source": [
    "rmse = pd.concat([pd.read_csv(path+'/Prophet Train/'+file, usecols=['tid','model','dev_rmse','val_rmse'],\n",
    "                             dtype={'tid':'str'}) for file in os.listdir(path+'/Prophet Train/')],ignore_index=True)\n",
    "rmse['mean_rmse'] = rmse[['dev_rmse','val_rmse']].mean(axis=1) \n",
    "rmse.info()"
   ]
  },
  {
   "cell_type": "code",
   "execution_count": 24,
   "metadata": {},
   "outputs": [],
   "source": [
    "# rmse.merge(old_rmse,how='left').to_csv(path+'/83 Train RMSE and old.csv')"
   ]
  },
  {
   "cell_type": "code",
   "execution_count": 25,
   "metadata": {},
   "outputs": [],
   "source": [
    "best = rmse.groupby(['tid']).val_rmse.apply(pd.Series.argmin).map(rmse[:18].model.to_dict()).reset_index()"
   ]
  },
  {
   "cell_type": "code",
   "execution_count": 26,
   "metadata": {},
   "outputs": [
    {
     "data": {
      "text/html": [
       "<div>\n",
       "<style scoped>\n",
       "    .dataframe tbody tr th:only-of-type {\n",
       "        vertical-align: middle;\n",
       "    }\n",
       "\n",
       "    .dataframe tbody tr th {\n",
       "        vertical-align: top;\n",
       "    }\n",
       "\n",
       "    .dataframe thead th {\n",
       "        text-align: right;\n",
       "    }\n",
       "</style>\n",
       "<table border=\"1\" class=\"dataframe\">\n",
       "  <thead>\n",
       "    <tr style=\"text-align: right;\">\n",
       "      <th></th>\n",
       "      <th>tid</th>\n",
       "      <th>val_rmse</th>\n",
       "    </tr>\n",
       "  </thead>\n",
       "  <tbody>\n",
       "    <tr>\n",
       "      <th>0</th>\n",
       "      <td>91010033</td>\n",
       "      <td>HP36</td>\n",
       "    </tr>\n",
       "    <tr>\n",
       "      <th>1</th>\n",
       "      <td>91010053</td>\n",
       "      <td>HP36</td>\n",
       "    </tr>\n",
       "    <tr>\n",
       "      <th>2</th>\n",
       "      <td>91010068</td>\n",
       "      <td>HP32</td>\n",
       "    </tr>\n",
       "    <tr>\n",
       "      <th>3</th>\n",
       "      <td>91010075</td>\n",
       "      <td>HP36</td>\n",
       "    </tr>\n",
       "    <tr>\n",
       "      <th>4</th>\n",
       "      <td>91010090</td>\n",
       "      <td>HP36</td>\n",
       "    </tr>\n",
       "    <tr>\n",
       "      <th>...</th>\n",
       "      <td>...</td>\n",
       "      <td>...</td>\n",
       "    </tr>\n",
       "    <tr>\n",
       "      <th>454</th>\n",
       "      <td>BR398</td>\n",
       "      <td>HP30</td>\n",
       "    </tr>\n",
       "    <tr>\n",
       "      <th>455</th>\n",
       "      <td>BR400</td>\n",
       "      <td>HP33</td>\n",
       "    </tr>\n",
       "    <tr>\n",
       "      <th>456</th>\n",
       "      <td>BR404</td>\n",
       "      <td>HP33</td>\n",
       "    </tr>\n",
       "    <tr>\n",
       "      <th>457</th>\n",
       "      <td>BR405</td>\n",
       "      <td>HP34</td>\n",
       "    </tr>\n",
       "    <tr>\n",
       "      <th>458</th>\n",
       "      <td>BR406</td>\n",
       "      <td>HP25</td>\n",
       "    </tr>\n",
       "  </tbody>\n",
       "</table>\n",
       "<p>459 rows × 2 columns</p>\n",
       "</div>"
      ],
      "text/plain": [
       "          tid val_rmse\n",
       "0    91010033     HP36\n",
       "1    91010053     HP36\n",
       "2    91010068     HP32\n",
       "3    91010075     HP36\n",
       "4    91010090     HP36\n",
       "..        ...      ...\n",
       "454     BR398     HP30\n",
       "455     BR400     HP33\n",
       "456     BR404     HP33\n",
       "457     BR405     HP34\n",
       "458     BR406     HP25\n",
       "\n",
       "[459 rows x 2 columns]"
      ]
     },
     "execution_count": 26,
     "metadata": {},
     "output_type": "execute_result"
    }
   ],
   "source": [
    "best"
   ]
  },
  {
   "cell_type": "code",
   "execution_count": 27,
   "metadata": {},
   "outputs": [
    {
     "data": {
      "text/plain": [
       "HP32    81\n",
       "HP30    63\n",
       "HP34    56\n",
       "HP36    35\n",
       "HP20    32\n",
       "HP33    31\n",
       "HP22    29\n",
       "HP35    26\n",
       "HP00    22\n",
       "HP24    18\n",
       "HP23    15\n",
       "HP02    11\n",
       "HP25    11\n",
       "HP03     9\n",
       "HP26     7\n",
       "HP04     5\n",
       "HP05     4\n",
       "HP06     4\n",
       "Name: best_model, dtype: int64"
      ]
     },
     "execution_count": 27,
     "metadata": {},
     "output_type": "execute_result"
    }
   ],
   "source": [
    "best.columns=['tid','best_model']\n",
    "best.tid = best.tid.astype(str)\n",
    "best['week'] = best.best_model.str[2:3].astype(int)\n",
    "best['mon'] = best.best_model.str[3:].astype(int)\n",
    "best.best_model.value_counts()"
   ]
  },
  {
   "cell_type": "code",
   "execution_count": 28,
   "metadata": {},
   "outputs": [
    {
     "name": "stdout",
     "output_type": "stream",
     "text": [
      "<class 'pandas.core.frame.DataFrame'>\n",
      "RangeIndex: 459 entries, 0 to 458\n",
      "Data columns (total 4 columns):\n",
      " #   Column      Non-Null Count  Dtype \n",
      "---  ------      --------------  ----- \n",
      " 0   tid         459 non-null    object\n",
      " 1   best_model  459 non-null    object\n",
      " 2   week        459 non-null    int32 \n",
      " 3   mon         459 non-null    int32 \n",
      "dtypes: int32(2), object(2)\n",
      "memory usage: 10.9+ KB\n"
     ]
    }
   ],
   "source": [
    "best.info()"
   ]
  },
  {
   "cell_type": "code",
   "execution_count": 29,
   "metadata": {},
   "outputs": [
    {
     "data": {
      "text/html": [
       "<div>\n",
       "<style scoped>\n",
       "    .dataframe tbody tr th:only-of-type {\n",
       "        vertical-align: middle;\n",
       "    }\n",
       "\n",
       "    .dataframe tbody tr th {\n",
       "        vertical-align: top;\n",
       "    }\n",
       "\n",
       "    .dataframe thead th {\n",
       "        text-align: right;\n",
       "    }\n",
       "</style>\n",
       "<table border=\"1\" class=\"dataframe\">\n",
       "  <thead>\n",
       "    <tr style=\"text-align: right;\">\n",
       "      <th></th>\n",
       "      <th>tid</th>\n",
       "      <th>model</th>\n",
       "      <th>dev_rmse</th>\n",
       "      <th>val_rmse</th>\n",
       "      <th>mean_rmse</th>\n",
       "    </tr>\n",
       "  </thead>\n",
       "  <tbody>\n",
       "    <tr>\n",
       "      <th>0</th>\n",
       "      <td>91010033</td>\n",
       "      <td>HP00</td>\n",
       "      <td>298556.65</td>\n",
       "      <td>236843.07</td>\n",
       "      <td>267699.86</td>\n",
       "    </tr>\n",
       "    <tr>\n",
       "      <th>1</th>\n",
       "      <td>91010033</td>\n",
       "      <td>HP02</td>\n",
       "      <td>286657.34</td>\n",
       "      <td>223539.27</td>\n",
       "      <td>255098.31</td>\n",
       "    </tr>\n",
       "    <tr>\n",
       "      <th>2</th>\n",
       "      <td>91010033</td>\n",
       "      <td>HP03</td>\n",
       "      <td>285876.87</td>\n",
       "      <td>227278.71</td>\n",
       "      <td>256577.79</td>\n",
       "    </tr>\n",
       "    <tr>\n",
       "      <th>3</th>\n",
       "      <td>91010033</td>\n",
       "      <td>HP04</td>\n",
       "      <td>282278.96</td>\n",
       "      <td>224213.21</td>\n",
       "      <td>253246.09</td>\n",
       "    </tr>\n",
       "    <tr>\n",
       "      <th>4</th>\n",
       "      <td>91010033</td>\n",
       "      <td>HP05</td>\n",
       "      <td>281348.43</td>\n",
       "      <td>224981.58</td>\n",
       "      <td>253165.00</td>\n",
       "    </tr>\n",
       "  </tbody>\n",
       "</table>\n",
       "</div>"
      ],
      "text/plain": [
       "        tid model  dev_rmse  val_rmse  mean_rmse\n",
       "0  91010033  HP00 298556.65 236843.07  267699.86\n",
       "1  91010033  HP02 286657.34 223539.27  255098.31\n",
       "2  91010033  HP03 285876.87 227278.71  256577.79\n",
       "3  91010033  HP04 282278.96 224213.21  253246.09\n",
       "4  91010033  HP05 281348.43 224981.58  253165.00"
      ]
     },
     "execution_count": 29,
     "metadata": {},
     "output_type": "execute_result"
    }
   ],
   "source": [
    "rmse.head()"
   ]
  },
  {
   "cell_type": "code",
   "execution_count": 31,
   "metadata": {},
   "outputs": [],
   "source": [
    "best = best.merge(rmse, left_on=['tid','best_model'], right_on=['tid','model'])"
   ]
  },
  {
   "cell_type": "code",
   "execution_count": 32,
   "metadata": {},
   "outputs": [],
   "source": [
    "best.to_csv(path+'89 Best Model.csv')"
   ]
  },
  {
   "cell_type": "code",
   "execution_count": 21,
   "metadata": {},
   "outputs": [
    {
     "data": {
      "text/plain": [
       "459"
      ]
     },
     "execution_count": 21,
     "metadata": {},
     "output_type": "execute_result"
    }
   ],
   "source": [
    "atms = best.tid.unique()\n",
    "len(atms)"
   ]
  },
  {
   "cell_type": "code",
   "execution_count": 12,
   "metadata": {},
   "outputs": [
    {
     "name": "stdout",
     "output_type": "stream",
     "text": [
      "<class 'pandas.core.frame.DataFrame'>\n",
      "RangeIndex: 751436 entries, 0 to 751435\n",
      "Data columns (total 4 columns):\n",
      " #   Column       Non-Null Count   Dtype         \n",
      "---  ------       --------------   -----         \n",
      " 0   DATE         751436 non-null  datetime64[ns]\n",
      " 1   TID_BR       751436 non-null  object        \n",
      " 2   WDL_AMT      751436 non-null  float64       \n",
      " 3   WDL_AMT_FIN  751436 non-null  float64       \n",
      "dtypes: datetime64[ns](1), float64(2), object(1)\n",
      "memory usage: 22.9+ MB\n"
     ]
    }
   ],
   "source": [
    "data = pd.read_pickle(path+'Actual/82 Aggregated TIDBR WDL.pkl')\n",
    "data.info()\n"
   ]
  },
  {
   "cell_type": "code",
   "execution_count": 14,
   "metadata": {},
   "outputs": [
    {
     "data": {
      "text/html": [
       "<div>\n",
       "<style scoped>\n",
       "    .dataframe tbody tr th:only-of-type {\n",
       "        vertical-align: middle;\n",
       "    }\n",
       "\n",
       "    .dataframe tbody tr th {\n",
       "        vertical-align: top;\n",
       "    }\n",
       "\n",
       "    .dataframe thead th {\n",
       "        text-align: right;\n",
       "    }\n",
       "</style>\n",
       "<table border=\"1\" class=\"dataframe\">\n",
       "  <thead>\n",
       "    <tr style=\"text-align: right;\">\n",
       "      <th></th>\n",
       "      <th>ds</th>\n",
       "      <th>tid</th>\n",
       "      <th>y</th>\n",
       "    </tr>\n",
       "  </thead>\n",
       "  <tbody>\n",
       "    <tr>\n",
       "      <th>0</th>\n",
       "      <td>2017-01-01</td>\n",
       "      <td>91010033</td>\n",
       "      <td>0.00</td>\n",
       "    </tr>\n",
       "    <tr>\n",
       "      <th>1</th>\n",
       "      <td>2017-01-01</td>\n",
       "      <td>91010053</td>\n",
       "      <td>0.00</td>\n",
       "    </tr>\n",
       "    <tr>\n",
       "      <th>2</th>\n",
       "      <td>2017-01-01</td>\n",
       "      <td>91010068</td>\n",
       "      <td>0.00</td>\n",
       "    </tr>\n",
       "    <tr>\n",
       "      <th>3</th>\n",
       "      <td>2017-01-01</td>\n",
       "      <td>91010075</td>\n",
       "      <td>0.00</td>\n",
       "    </tr>\n",
       "    <tr>\n",
       "      <th>4</th>\n",
       "      <td>2017-01-01</td>\n",
       "      <td>91010090</td>\n",
       "      <td>0.00</td>\n",
       "    </tr>\n",
       "    <tr>\n",
       "      <th>...</th>\n",
       "      <td>...</td>\n",
       "      <td>...</td>\n",
       "      <td>...</td>\n",
       "    </tr>\n",
       "    <tr>\n",
       "      <th>720505</th>\n",
       "      <td>2019-12-31</td>\n",
       "      <td>BR987</td>\n",
       "      <td>0.00</td>\n",
       "    </tr>\n",
       "    <tr>\n",
       "      <th>720506</th>\n",
       "      <td>2019-12-31</td>\n",
       "      <td>BR988</td>\n",
       "      <td>1247500.00</td>\n",
       "    </tr>\n",
       "    <tr>\n",
       "      <th>720507</th>\n",
       "      <td>2019-12-31</td>\n",
       "      <td>BR992</td>\n",
       "      <td>2717100.00</td>\n",
       "    </tr>\n",
       "    <tr>\n",
       "      <th>720508</th>\n",
       "      <td>2019-12-31</td>\n",
       "      <td>BR996</td>\n",
       "      <td>4859000.00</td>\n",
       "    </tr>\n",
       "    <tr>\n",
       "      <th>720509</th>\n",
       "      <td>2019-12-31</td>\n",
       "      <td>BR998</td>\n",
       "      <td>817300.00</td>\n",
       "    </tr>\n",
       "  </tbody>\n",
       "</table>\n",
       "<p>720510 rows × 3 columns</p>\n",
       "</div>"
      ],
      "text/plain": [
       "               ds       tid          y\n",
       "0      2017-01-01  91010033       0.00\n",
       "1      2017-01-01  91010053       0.00\n",
       "2      2017-01-01  91010068       0.00\n",
       "3      2017-01-01  91010075       0.00\n",
       "4      2017-01-01  91010090       0.00\n",
       "...           ...       ...        ...\n",
       "720505 2019-12-31     BR987       0.00\n",
       "720506 2019-12-31     BR988 1247500.00\n",
       "720507 2019-12-31     BR992 2717100.00\n",
       "720508 2019-12-31     BR996 4859000.00\n",
       "720509 2019-12-31     BR998  817300.00\n",
       "\n",
       "[720510 rows x 3 columns]"
      ]
     },
     "execution_count": 14,
     "metadata": {},
     "output_type": "execute_result"
    }
   ],
   "source": [
    "data_train = data[data.DATE <= '2019-12-31'][['DATE','TID_BR','WDL_AMT_FIN']].copy()\n",
    "data_train.columns=['ds','tid','y']\n",
    "data_train"
   ]
  },
  {
   "cell_type": "code",
   "execution_count": 15,
   "metadata": {},
   "outputs": [
    {
     "name": "stdout",
     "output_type": "stream",
     "text": [
      "\n",
      "total scenario: 18\n"
     ]
    }
   ],
   "source": [
    "week = [0,2,3]\n",
    "mon = [0,2,3,4,5,6]\n",
    "hol = ['HP']\n",
    "holidays=HP\n",
    "\n",
    "scenario =  pd.DataFrame(list(itertools.product(hol,week,mon)),columns=['hol','week','mon'])\n",
    "scenario['model'] = scenario.hol + scenario.week.astype('str') +scenario.mon.astype(str)\n",
    "scenario['hol_num'] = scenario['hol'].map({'HP':0,'OP':1})\n",
    "\n",
    "print('\\ntotal scenario: {}'.format(scenario.shape[0]))"
   ]
  },
  {
   "cell_type": "code",
   "execution_count": 16,
   "metadata": {},
   "outputs": [
    {
     "name": "stdout",
     "output_type": "stream",
     "text": [
      "729\n"
     ]
    }
   ],
   "source": [
    "dev_length = sum(data_train.ds.dt.date.unique() < pd.to_datetime('20181231'))\n",
    "print(dev_length)\n",
    "period = '1 days'\n",
    "horizon = 14"
   ]
  },
  {
   "cell_type": "code",
   "execution_count": 17,
   "metadata": {},
   "outputs": [],
   "source": [
    "from fbprophet import Prophet"
   ]
  },
  {
   "cell_type": "code",
   "execution_count": 18,
   "metadata": {},
   "outputs": [],
   "source": [
    "def train(series,val_dates,holidays,weekly=0,monthly=0):\n",
    "    series = series.copy()\n",
    "    val_dates = val_dates.copy()\n",
    "    #define model\n",
    "    modelf = Prophet(interval_width = 0.95,\n",
    "                    daily_seasonality = False,\n",
    "                    weekly_seasonality = False,\n",
    "                    yearly_seasonality = False,\n",
    "                    holidays = holidays)\n",
    "    if weekly != 0: modelf.add_seasonality(name='weeklyx', period = 7, fourier_order = weekly)\n",
    "    if monthly != 0: modelf.add_seasonality(name='monthlyx', period = 30.5, fourier_order = monthly)\n",
    "    \n",
    "    modelf.fit(series)\n",
    "    \n",
    "#     return modelf\n",
    "    val_dates['yhat'] = modelf.predict(val_dates[['ds']]).yhat.values.clip(min=0)\n",
    "    val_dates['pred_date'] = series.tail(1).ds.dt.date.values.tolist()[0]\n",
    "    val_dates['pred_day'] = ['day '+str(i) for i in range(val_dates.shape[0])]\n",
    "    return val_dates"
   ]
  },
  {
   "cell_type": "code",
   "execution_count": 22,
   "metadata": {},
   "outputs": [
    {
     "name": "stdout",
     "output_type": "stream",
     "text": [
      "\n",
      "ATM:91010033  RMSE:262511.6321450931\n",
      "0:02:55.407647\n",
      "\n",
      "ATM:91010053  RMSE:283324.79593418085\n",
      "0:02:54.044770\n",
      "\n",
      "ATM:91010068  RMSE:71257.62660345524\n",
      "0:02:50.002248\n",
      "\n",
      "ATM:91010075  RMSE:210095.41561052905\n",
      "0:03:21.350033\n",
      "\n",
      "ATM:91010090  RMSE:467238.9709510498\n",
      "0:02:55.833219\n",
      "\n",
      "ATM:91010101  RMSE:362764.56462696515\n",
      "0:02:55.567786\n",
      "\n",
      "ATM:91010125  RMSE:746794.2127539003\n",
      "0:03:03.546278\n",
      "\n",
      "ATM:91010126  RMSE:403909.5648522778\n",
      "0:02:58.224047\n",
      "\n",
      "ATM:91010127  RMSE:309767.1422313532\n",
      "0:03:01.533490\n",
      "\n",
      "ATM:91010133  RMSE:515152.47271006653\n",
      "0:03:01.369259\n",
      "\n",
      "ATM:91010135  RMSE:528150.7415995076\n",
      "0:03:02.133590\n",
      "\n",
      "ATM:91010145  RMSE:113521.83386170492\n",
      "0:03:03.074064\n",
      "\n",
      "ATM:91010151  RMSE:370725.20234062936\n",
      "0:02:55.631876\n",
      "\n",
      "ATM:91010152  RMSE:543385.2994815469\n",
      "0:02:54.177683\n",
      "\n",
      "ATM:91010155  RMSE:460845.6256721458\n",
      "0:03:02.230544\n",
      "\n",
      "ATM:91010156  RMSE:544226.4453197134\n",
      "0:02:57.906718\n",
      "\n",
      "ATM:91010157  RMSE:662196.631606108\n",
      "0:02:51.167067\n",
      "\n",
      "ATM:91010158  RMSE:315715.81825257663\n",
      "0:02:55.869826\n",
      "\n",
      "ATM:91010162  RMSE:414326.8884058954\n",
      "0:02:54.235419\n",
      "\n",
      "ATM:91010211  RMSE:289927.7729772908\n",
      "0:02:57.818806\n",
      "\n",
      "ATM:91010264  RMSE:361768.4715490185\n",
      "0:02:55.394437\n",
      "\n",
      "ATM:91010265  RMSE:219728.96581922556\n",
      "0:03:03.804075\n",
      "\n",
      "ATM:91010301  RMSE:545329.9609321284\n",
      "0:02:59.804178\n",
      "\n",
      "ATM:91010320  RMSE:690052.6797937189\n",
      "0:02:51.827160\n",
      "\n",
      "ATM:91010330  RMSE:596564.5613100892\n",
      "0:02:54.524127\n",
      "\n",
      "ATM:91010358  RMSE:449156.0520464006\n",
      "0:02:52.539213\n",
      "\n",
      "ATM:91010363  RMSE:680433.2928742213\n",
      "0:03:03.411523\n",
      "\n",
      "ATM:91010366  RMSE:487772.9695783107\n",
      "0:02:56.782120\n",
      "\n",
      "ATM:91010371  RMSE:207469.06959884148\n",
      "0:02:56.744728\n",
      "\n",
      "ATM:91010376  RMSE:346167.06092636316\n",
      "0:02:58.205689\n",
      "\n",
      "ATM:91010383  RMSE:120145.61422527081\n",
      "0:02:54.324867\n",
      "\n",
      "ATM:91010391  RMSE:419661.50564950507\n",
      "0:03:01.133398\n",
      "\n",
      "ATM:91010392  RMSE:258541.75303659713\n",
      "0:03:00.747765\n",
      "\n",
      "ATM:91010443  RMSE:274070.1450096783\n",
      "0:03:08.035044\n",
      "\n",
      "ATM:91010445  RMSE:423836.3811958666\n",
      "0:03:00.456486\n",
      "\n",
      "ATM:91010465  RMSE:334536.04363742506\n",
      "0:03:02.960537\n",
      "\n",
      "ATM:91010476  RMSE:404223.1580583385\n",
      "0:02:55.476804\n",
      "\n",
      "ATM:91010491  RMSE:796932.2180898397\n",
      "0:02:52.714393\n",
      "\n",
      "ATM:91016061  RMSE:528192.4088371424\n",
      "0:03:00.452202\n",
      "\n",
      "ATM:91016062  RMSE:502593.565467455\n",
      "0:03:02.021539\n"
     ]
    },
    {
     "ename": "KeyboardInterrupt",
     "evalue": "",
     "output_type": "error",
     "traceback": [
      "\u001b[1;31m---------------------------------------------------------------------------\u001b[0m",
      "\u001b[1;31mKeyboardInterrupt\u001b[0m                         Traceback (most recent call last)",
      "\u001b[1;32m<ipython-input-22-023ddb16d5f7>\u001b[0m in \u001b[0;36m<module>\u001b[1;34m\u001b[0m\n\u001b[0;32m     14\u001b[0m \u001b[1;33m\u001b[0m\u001b[0m\n\u001b[0;32m     15\u001b[0m \u001b[1;33m\u001b[0m\u001b[0m\n\u001b[1;32m---> 16\u001b[1;33m     \u001b[0mmodel\u001b[0m \u001b[1;33m=\u001b[0m \u001b[0mdbmaster\u001b[0m\u001b[1;33m.\u001b[0m\u001b[0mcompute\u001b[0m\u001b[1;33m(\u001b[0m\u001b[1;33m)\u001b[0m\u001b[1;33m\u001b[0m\u001b[1;33m\u001b[0m\u001b[0m\n\u001b[0m\u001b[0;32m     17\u001b[0m     \u001b[0mmodel\u001b[0m\u001b[1;33m=\u001b[0m\u001b[0mpd\u001b[0m\u001b[1;33m.\u001b[0m\u001b[0mconcat\u001b[0m\u001b[1;33m(\u001b[0m\u001b[1;33m[\u001b[0m\u001b[0mmodel\u001b[0m\u001b[1;33m[\u001b[0m\u001b[0mi\u001b[0m\u001b[1;33m]\u001b[0m \u001b[1;32mfor\u001b[0m \u001b[0mi\u001b[0m \u001b[1;32min\u001b[0m \u001b[0mrange\u001b[0m\u001b[1;33m(\u001b[0m\u001b[0mlen\u001b[0m\u001b[1;33m(\u001b[0m\u001b[0mmodel\u001b[0m\u001b[1;33m)\u001b[0m\u001b[1;33m)\u001b[0m\u001b[1;33m]\u001b[0m\u001b[1;33m)\u001b[0m\u001b[1;33m\u001b[0m\u001b[1;33m\u001b[0m\u001b[0m\n\u001b[0;32m     18\u001b[0m     \u001b[0mmodel\u001b[0m\u001b[1;33m[\u001b[0m\u001b[1;34m'se'\u001b[0m\u001b[1;33m]\u001b[0m \u001b[1;33m=\u001b[0m \u001b[1;33m(\u001b[0m\u001b[0mmodel\u001b[0m\u001b[1;33m.\u001b[0m\u001b[0my\u001b[0m\u001b[1;33m-\u001b[0m\u001b[0mmodel\u001b[0m\u001b[1;33m.\u001b[0m\u001b[0myhat\u001b[0m\u001b[1;33m)\u001b[0m\u001b[1;33m**\u001b[0m\u001b[1;36m2\u001b[0m\u001b[1;33m\u001b[0m\u001b[1;33m\u001b[0m\u001b[0m\n",
      "\u001b[1;32mC:\\ProgramData\\Anaconda3\\lib\\site-packages\\dask\\base.py\u001b[0m in \u001b[0;36mcompute\u001b[1;34m(self, **kwargs)\u001b[0m\n\u001b[0;32m    154\u001b[0m         \u001b[0mdask\u001b[0m\u001b[1;33m.\u001b[0m\u001b[0mbase\u001b[0m\u001b[1;33m.\u001b[0m\u001b[0mcompute\u001b[0m\u001b[1;33m\u001b[0m\u001b[1;33m\u001b[0m\u001b[0m\n\u001b[0;32m    155\u001b[0m         \"\"\"\n\u001b[1;32m--> 156\u001b[1;33m         \u001b[1;33m(\u001b[0m\u001b[0mresult\u001b[0m\u001b[1;33m,\u001b[0m\u001b[1;33m)\u001b[0m \u001b[1;33m=\u001b[0m \u001b[0mcompute\u001b[0m\u001b[1;33m(\u001b[0m\u001b[0mself\u001b[0m\u001b[1;33m,\u001b[0m \u001b[0mtraverse\u001b[0m\u001b[1;33m=\u001b[0m\u001b[1;32mFalse\u001b[0m\u001b[1;33m,\u001b[0m \u001b[1;33m**\u001b[0m\u001b[0mkwargs\u001b[0m\u001b[1;33m)\u001b[0m\u001b[1;33m\u001b[0m\u001b[1;33m\u001b[0m\u001b[0m\n\u001b[0m\u001b[0;32m    157\u001b[0m         \u001b[1;32mreturn\u001b[0m \u001b[0mresult\u001b[0m\u001b[1;33m\u001b[0m\u001b[1;33m\u001b[0m\u001b[0m\n\u001b[0;32m    158\u001b[0m \u001b[1;33m\u001b[0m\u001b[0m\n",
      "\u001b[1;32mC:\\ProgramData\\Anaconda3\\lib\\site-packages\\dask\\base.py\u001b[0m in \u001b[0;36mcompute\u001b[1;34m(*args, **kwargs)\u001b[0m\n\u001b[0;32m    396\u001b[0m     \u001b[0mkeys\u001b[0m \u001b[1;33m=\u001b[0m \u001b[1;33m[\u001b[0m\u001b[0mx\u001b[0m\u001b[1;33m.\u001b[0m\u001b[0m__dask_keys__\u001b[0m\u001b[1;33m(\u001b[0m\u001b[1;33m)\u001b[0m \u001b[1;32mfor\u001b[0m \u001b[0mx\u001b[0m \u001b[1;32min\u001b[0m \u001b[0mcollections\u001b[0m\u001b[1;33m]\u001b[0m\u001b[1;33m\u001b[0m\u001b[1;33m\u001b[0m\u001b[0m\n\u001b[0;32m    397\u001b[0m     \u001b[0mpostcomputes\u001b[0m \u001b[1;33m=\u001b[0m \u001b[1;33m[\u001b[0m\u001b[0mx\u001b[0m\u001b[1;33m.\u001b[0m\u001b[0m__dask_postcompute__\u001b[0m\u001b[1;33m(\u001b[0m\u001b[1;33m)\u001b[0m \u001b[1;32mfor\u001b[0m \u001b[0mx\u001b[0m \u001b[1;32min\u001b[0m \u001b[0mcollections\u001b[0m\u001b[1;33m]\u001b[0m\u001b[1;33m\u001b[0m\u001b[1;33m\u001b[0m\u001b[0m\n\u001b[1;32m--> 398\u001b[1;33m     \u001b[0mresults\u001b[0m \u001b[1;33m=\u001b[0m \u001b[0mschedule\u001b[0m\u001b[1;33m(\u001b[0m\u001b[0mdsk\u001b[0m\u001b[1;33m,\u001b[0m \u001b[0mkeys\u001b[0m\u001b[1;33m,\u001b[0m \u001b[1;33m**\u001b[0m\u001b[0mkwargs\u001b[0m\u001b[1;33m)\u001b[0m\u001b[1;33m\u001b[0m\u001b[1;33m\u001b[0m\u001b[0m\n\u001b[0m\u001b[0;32m    399\u001b[0m     \u001b[1;32mreturn\u001b[0m \u001b[0mrepack\u001b[0m\u001b[1;33m(\u001b[0m\u001b[1;33m[\u001b[0m\u001b[0mf\u001b[0m\u001b[1;33m(\u001b[0m\u001b[0mr\u001b[0m\u001b[1;33m,\u001b[0m \u001b[1;33m*\u001b[0m\u001b[0ma\u001b[0m\u001b[1;33m)\u001b[0m \u001b[1;32mfor\u001b[0m \u001b[0mr\u001b[0m\u001b[1;33m,\u001b[0m \u001b[1;33m(\u001b[0m\u001b[0mf\u001b[0m\u001b[1;33m,\u001b[0m \u001b[0ma\u001b[0m\u001b[1;33m)\u001b[0m \u001b[1;32min\u001b[0m \u001b[0mzip\u001b[0m\u001b[1;33m(\u001b[0m\u001b[0mresults\u001b[0m\u001b[1;33m,\u001b[0m \u001b[0mpostcomputes\u001b[0m\u001b[1;33m)\u001b[0m\u001b[1;33m]\u001b[0m\u001b[1;33m)\u001b[0m\u001b[1;33m\u001b[0m\u001b[1;33m\u001b[0m\u001b[0m\n\u001b[0;32m    400\u001b[0m \u001b[1;33m\u001b[0m\u001b[0m\n",
      "\u001b[1;32mC:\\ProgramData\\Anaconda3\\lib\\site-packages\\distributed\\client.py\u001b[0m in \u001b[0;36mget\u001b[1;34m(self, dsk, keys, restrictions, loose_restrictions, resources, sync, asynchronous, direct, retries, priority, fifo_timeout, actors, **kwargs)\u001b[0m\n\u001b[0;32m   2330\u001b[0m             \u001b[1;32mtry\u001b[0m\u001b[1;33m:\u001b[0m\u001b[1;33m\u001b[0m\u001b[1;33m\u001b[0m\u001b[0m\n\u001b[0;32m   2331\u001b[0m                 results = self.gather(packed, asynchronous=asynchronous,\n\u001b[1;32m-> 2332\u001b[1;33m                                       direct=direct)\n\u001b[0m\u001b[0;32m   2333\u001b[0m             \u001b[1;32mfinally\u001b[0m\u001b[1;33m:\u001b[0m\u001b[1;33m\u001b[0m\u001b[1;33m\u001b[0m\u001b[0m\n\u001b[0;32m   2334\u001b[0m                 \u001b[1;32mfor\u001b[0m \u001b[0mf\u001b[0m \u001b[1;32min\u001b[0m \u001b[0mfutures\u001b[0m\u001b[1;33m.\u001b[0m\u001b[0mvalues\u001b[0m\u001b[1;33m(\u001b[0m\u001b[1;33m)\u001b[0m\u001b[1;33m:\u001b[0m\u001b[1;33m\u001b[0m\u001b[1;33m\u001b[0m\u001b[0m\n",
      "\u001b[1;32mC:\\ProgramData\\Anaconda3\\lib\\site-packages\\distributed\\client.py\u001b[0m in \u001b[0;36mgather\u001b[1;34m(self, futures, errors, maxsize, direct, asynchronous)\u001b[0m\n\u001b[0;32m   1654\u001b[0m             return self.sync(self._gather, futures, errors=errors,\n\u001b[0;32m   1655\u001b[0m                              \u001b[0mdirect\u001b[0m\u001b[1;33m=\u001b[0m\u001b[0mdirect\u001b[0m\u001b[1;33m,\u001b[0m \u001b[0mlocal_worker\u001b[0m\u001b[1;33m=\u001b[0m\u001b[0mlocal_worker\u001b[0m\u001b[1;33m,\u001b[0m\u001b[1;33m\u001b[0m\u001b[1;33m\u001b[0m\u001b[0m\n\u001b[1;32m-> 1656\u001b[1;33m                              asynchronous=asynchronous)\n\u001b[0m\u001b[0;32m   1657\u001b[0m \u001b[1;33m\u001b[0m\u001b[0m\n\u001b[0;32m   1658\u001b[0m     \u001b[1;33m@\u001b[0m\u001b[0mgen\u001b[0m\u001b[1;33m.\u001b[0m\u001b[0mcoroutine\u001b[0m\u001b[1;33m\u001b[0m\u001b[1;33m\u001b[0m\u001b[0m\n",
      "\u001b[1;32mC:\\ProgramData\\Anaconda3\\lib\\site-packages\\distributed\\client.py\u001b[0m in \u001b[0;36msync\u001b[1;34m(self, func, *args, **kwargs)\u001b[0m\n\u001b[0;32m    674\u001b[0m             \u001b[1;32mreturn\u001b[0m \u001b[0mfuture\u001b[0m\u001b[1;33m\u001b[0m\u001b[1;33m\u001b[0m\u001b[0m\n\u001b[0;32m    675\u001b[0m         \u001b[1;32melse\u001b[0m\u001b[1;33m:\u001b[0m\u001b[1;33m\u001b[0m\u001b[1;33m\u001b[0m\u001b[0m\n\u001b[1;32m--> 676\u001b[1;33m             \u001b[1;32mreturn\u001b[0m \u001b[0msync\u001b[0m\u001b[1;33m(\u001b[0m\u001b[0mself\u001b[0m\u001b[1;33m.\u001b[0m\u001b[0mloop\u001b[0m\u001b[1;33m,\u001b[0m \u001b[0mfunc\u001b[0m\u001b[1;33m,\u001b[0m \u001b[1;33m*\u001b[0m\u001b[0margs\u001b[0m\u001b[1;33m,\u001b[0m \u001b[1;33m**\u001b[0m\u001b[0mkwargs\u001b[0m\u001b[1;33m)\u001b[0m\u001b[1;33m\u001b[0m\u001b[1;33m\u001b[0m\u001b[0m\n\u001b[0m\u001b[0;32m    677\u001b[0m \u001b[1;33m\u001b[0m\u001b[0m\n\u001b[0;32m    678\u001b[0m     \u001b[1;32mdef\u001b[0m \u001b[0m__repr__\u001b[0m\u001b[1;33m(\u001b[0m\u001b[0mself\u001b[0m\u001b[1;33m)\u001b[0m\u001b[1;33m:\u001b[0m\u001b[1;33m\u001b[0m\u001b[1;33m\u001b[0m\u001b[0m\n",
      "\u001b[1;32mC:\\ProgramData\\Anaconda3\\lib\\site-packages\\distributed\\utils.py\u001b[0m in \u001b[0;36msync\u001b[1;34m(loop, func, *args, **kwargs)\u001b[0m\n\u001b[0;32m    273\u001b[0m     \u001b[1;32melse\u001b[0m\u001b[1;33m:\u001b[0m\u001b[1;33m\u001b[0m\u001b[1;33m\u001b[0m\u001b[0m\n\u001b[0;32m    274\u001b[0m         \u001b[1;32mwhile\u001b[0m \u001b[1;32mnot\u001b[0m \u001b[0me\u001b[0m\u001b[1;33m.\u001b[0m\u001b[0mis_set\u001b[0m\u001b[1;33m(\u001b[0m\u001b[1;33m)\u001b[0m\u001b[1;33m:\u001b[0m\u001b[1;33m\u001b[0m\u001b[1;33m\u001b[0m\u001b[0m\n\u001b[1;32m--> 275\u001b[1;33m             \u001b[0me\u001b[0m\u001b[1;33m.\u001b[0m\u001b[0mwait\u001b[0m\u001b[1;33m(\u001b[0m\u001b[1;36m10\u001b[0m\u001b[1;33m)\u001b[0m\u001b[1;33m\u001b[0m\u001b[1;33m\u001b[0m\u001b[0m\n\u001b[0m\u001b[0;32m    276\u001b[0m     \u001b[1;32mif\u001b[0m \u001b[0merror\u001b[0m\u001b[1;33m[\u001b[0m\u001b[1;36m0\u001b[0m\u001b[1;33m]\u001b[0m\u001b[1;33m:\u001b[0m\u001b[1;33m\u001b[0m\u001b[1;33m\u001b[0m\u001b[0m\n\u001b[0;32m    277\u001b[0m         \u001b[0msix\u001b[0m\u001b[1;33m.\u001b[0m\u001b[0mreraise\u001b[0m\u001b[1;33m(\u001b[0m\u001b[1;33m*\u001b[0m\u001b[0merror\u001b[0m\u001b[1;33m[\u001b[0m\u001b[1;36m0\u001b[0m\u001b[1;33m]\u001b[0m\u001b[1;33m)\u001b[0m\u001b[1;33m\u001b[0m\u001b[1;33m\u001b[0m\u001b[0m\n",
      "\u001b[1;32mC:\\ProgramData\\Anaconda3\\lib\\threading.py\u001b[0m in \u001b[0;36mwait\u001b[1;34m(self, timeout)\u001b[0m\n\u001b[0;32m    550\u001b[0m             \u001b[0msignaled\u001b[0m \u001b[1;33m=\u001b[0m \u001b[0mself\u001b[0m\u001b[1;33m.\u001b[0m\u001b[0m_flag\u001b[0m\u001b[1;33m\u001b[0m\u001b[1;33m\u001b[0m\u001b[0m\n\u001b[0;32m    551\u001b[0m             \u001b[1;32mif\u001b[0m \u001b[1;32mnot\u001b[0m \u001b[0msignaled\u001b[0m\u001b[1;33m:\u001b[0m\u001b[1;33m\u001b[0m\u001b[1;33m\u001b[0m\u001b[0m\n\u001b[1;32m--> 552\u001b[1;33m                 \u001b[0msignaled\u001b[0m \u001b[1;33m=\u001b[0m \u001b[0mself\u001b[0m\u001b[1;33m.\u001b[0m\u001b[0m_cond\u001b[0m\u001b[1;33m.\u001b[0m\u001b[0mwait\u001b[0m\u001b[1;33m(\u001b[0m\u001b[0mtimeout\u001b[0m\u001b[1;33m)\u001b[0m\u001b[1;33m\u001b[0m\u001b[1;33m\u001b[0m\u001b[0m\n\u001b[0m\u001b[0;32m    553\u001b[0m             \u001b[1;32mreturn\u001b[0m \u001b[0msignaled\u001b[0m\u001b[1;33m\u001b[0m\u001b[1;33m\u001b[0m\u001b[0m\n\u001b[0;32m    554\u001b[0m \u001b[1;33m\u001b[0m\u001b[0m\n",
      "\u001b[1;32mC:\\ProgramData\\Anaconda3\\lib\\threading.py\u001b[0m in \u001b[0;36mwait\u001b[1;34m(self, timeout)\u001b[0m\n\u001b[0;32m    298\u001b[0m             \u001b[1;32melse\u001b[0m\u001b[1;33m:\u001b[0m\u001b[1;33m\u001b[0m\u001b[1;33m\u001b[0m\u001b[0m\n\u001b[0;32m    299\u001b[0m                 \u001b[1;32mif\u001b[0m \u001b[0mtimeout\u001b[0m \u001b[1;33m>\u001b[0m \u001b[1;36m0\u001b[0m\u001b[1;33m:\u001b[0m\u001b[1;33m\u001b[0m\u001b[1;33m\u001b[0m\u001b[0m\n\u001b[1;32m--> 300\u001b[1;33m                     \u001b[0mgotit\u001b[0m \u001b[1;33m=\u001b[0m \u001b[0mwaiter\u001b[0m\u001b[1;33m.\u001b[0m\u001b[0macquire\u001b[0m\u001b[1;33m(\u001b[0m\u001b[1;32mTrue\u001b[0m\u001b[1;33m,\u001b[0m \u001b[0mtimeout\u001b[0m\u001b[1;33m)\u001b[0m\u001b[1;33m\u001b[0m\u001b[1;33m\u001b[0m\u001b[0m\n\u001b[0m\u001b[0;32m    301\u001b[0m                 \u001b[1;32melse\u001b[0m\u001b[1;33m:\u001b[0m\u001b[1;33m\u001b[0m\u001b[1;33m\u001b[0m\u001b[0m\n\u001b[0;32m    302\u001b[0m                     \u001b[0mgotit\u001b[0m \u001b[1;33m=\u001b[0m \u001b[0mwaiter\u001b[0m\u001b[1;33m.\u001b[0m\u001b[0macquire\u001b[0m\u001b[1;33m(\u001b[0m\u001b[1;32mFalse\u001b[0m\u001b[1;33m)\u001b[0m\u001b[1;33m\u001b[0m\u001b[1;33m\u001b[0m\u001b[0m\n",
      "\u001b[1;31mKeyboardInterrupt\u001b[0m: "
     ]
    }
   ],
   "source": [
    "for atm in atms:\n",
    "    start=time()\n",
    "\n",
    "    series = data_train[data_train.tid == atm][['ds','y']].copy().reset_index(drop=True)\n",
    "    index = best[best.tid == atm].index\n",
    "    week = best.week[index].tolist()[0]\n",
    "    mon = best.mon[index].tolist()[0]\n",
    "    n=series.shape[0]-dev_length-horizon-1\n",
    "\n",
    "    dbseries = db.from_sequence([series[i:i+dev_length] for i in range(n)])\n",
    "    dbforecast = db.from_sequence([series[i+dev_length:i+dev_length+horizon][['ds','y']] for i in range(n)])\n",
    "\n",
    "    dbmaster = db.map(train,dbseries,dbforecast,HP,week,mon)\n",
    "\n",
    "\n",
    "    model = dbmaster.compute()\n",
    "    model=pd.concat([model[i] for i in range(len(model))])\n",
    "    model['se'] = (model.y-model.yhat)**2\n",
    "    model['tid'] = atm\n",
    "    rmse = model.groupby([model.ds.dt.month,'pred_day']).se.mean().agg(np.sqrt).reset_index()\n",
    "    model.to_csv(path+'Prophet Forecast/'+atm+'_forecast.csv')\n",
    "    rmse.to_csv(path+'Prophet Forecast RMSE/'+atm+'_forecast_rmse.csv')\n",
    "    print(f'\\nATM:{atm}  RMSE:{rmse.se.mean()}')\n",
    "    print(timedelta(seconds=time()-start))"
   ]
  },
  {
   "cell_type": "markdown",
   "metadata": {},
   "source": [
    "### Get best model"
   ]
  },
  {
   "cell_type": "code",
   "execution_count": null,
   "metadata": {},
   "outputs": [],
   "source": []
  }
 ],
 "metadata": {
  "kernelspec": {
   "display_name": "Python 3",
   "language": "python",
   "name": "python3"
  },
  "language_info": {
   "codemirror_mode": {
    "name": "ipython",
    "version": 3
   },
   "file_extension": ".py",
   "mimetype": "text/x-python",
   "name": "python",
   "nbconvert_exporter": "python",
   "pygments_lexer": "ipython3",
   "version": "3.7.3"
  }
 },
 "nbformat": 4,
 "nbformat_minor": 2
}
