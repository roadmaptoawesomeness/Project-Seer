{
 "cells": [
  {
   "cell_type": "code",
   "execution_count": 4,
   "metadata": {},
   "outputs": [
    {
     "data": {
      "text/plain": [
       "'\\nCreated on Wed Feb 19 16:21:00 2020\\n\\n@author: cmchico\\n\\nusual imports\\n'"
      ]
     },
     "execution_count": 4,
     "metadata": {},
     "output_type": "execute_result"
    }
   ],
   "source": [
    "# %load D:/BUDS_MID/__init__.py\n",
    "\"\"\"\n",
    "Created on Wed Feb 19 16:21:00 2020\n",
    "\n",
    "@author: cmchico\n",
    "\n",
    "usual imports\n",
    "\"\"\"\n",
    "\n",
    "import os\n",
    "import pandas as pd\n",
    "import numpy as np\n",
    "\n",
    "pd.options.display.max_rows = 100\n",
    "pd.set_option('display.float_format', '{:.0f}'.format)\n",
    "\n",
    "from time import time\n",
    "from datetime import timedelta\n",
    "\n",
    "import pickle\n",
    "\n",
    "from IPython.core.interactiveshell import InteractiveShell\n",
    "InteractiveShell.ast_node_interactivity = \"all\""
   ]
  },
  {
   "cell_type": "code",
   "execution_count": 5,
   "metadata": {},
   "outputs": [],
   "source": [
    "path = 'D:/BUDS/ATM Recon/G4S Replenishment Data/'\n",
    "out = 'D:/BUDS_MID/OJT ATM/ATM Forecasting Data New/'"
   ]
  },
  {
   "cell_type": "code",
   "execution_count": 6,
   "metadata": {},
   "outputs": [
    {
     "name": "stdout",
     "output_type": "stream",
     "text": [
      "0:02:10.929554\n"
     ]
    }
   ],
   "source": [
    "start = time()\n",
    "raw= pd.concat([pd.read_excel(path+i).assign(file=i) for i in os.listdir(path)], ignore_index=True)\n",
    "raw['mon'] = raw.file.str.split(' ').str[3]\n",
    "print(timedelta(seconds=time()-start))"
   ]
  },
  {
   "cell_type": "code",
   "execution_count": 7,
   "metadata": {},
   "outputs": [],
   "source": [
    "raw=raw[~raw['Location Id'].isnull()].copy()"
   ]
  },
  {
   "cell_type": "code",
   "execution_count": 8,
   "metadata": {},
   "outputs": [
    {
     "data": {
      "text/plain": [
       "Jan    32171\n",
       "Dec    22703\n",
       "Nov    20369\n",
       "Oct    19080\n",
       "Jul    17412\n",
       "Jun    17104\n",
       "Aug    16702\n",
       "Sep    16552\n",
       "May    15082\n",
       "Apr    14589\n",
       "Feb    13000\n",
       "Mar     7488\n",
       "Name: mon, dtype: int64"
      ]
     },
     "execution_count": 8,
     "metadata": {},
     "output_type": "execute_result"
    }
   ],
   "source": [
    "raw.mon.value_counts()"
   ]
  },
  {
   "cell_type": "code",
   "execution_count": 9,
   "metadata": {},
   "outputs": [],
   "source": [
    "raw['mon_num2'] = raw.mon.map({'Jan':1,'Feb':2,'Mar':3,'Apr':4,'May':5,'Jun':6,'Jul':7,'Aug':8,'Sep':9,\n",
    "                              'Oct':10,'Nov':11,'Dec':12})"
   ]
  },
  {
   "cell_type": "code",
   "execution_count": null,
   "metadata": {},
   "outputs": [],
   "source": []
  },
  {
   "cell_type": "code",
   "execution_count": 10,
   "metadata": {},
   "outputs": [],
   "source": [
    "raw['year_num'] = raw['Job Date'].str.split('/').str[2].astype(int)\n",
    "raw['day_num'] = raw['Job Date'].str.split('/').str[0].astype(int)\n",
    "raw['mon_num'] = raw['Job Date'].str.split('/').str[1].astype(int)"
   ]
  },
  {
   "cell_type": "code",
   "execution_count": 11,
   "metadata": {},
   "outputs": [],
   "source": [
    "raw['Date'] = pd.to_datetime(raw['Job Date'])\n",
    "\n",
    "select = raw.mon_num == raw.mon_num2\n",
    "raw.loc[select,'Date'] = pd.to_datetime(raw.loc[select,'year_num'].astype(str)+'/'\n",
    "                                        +raw.loc[select,'mon_num'].astype(str)+'/'\n",
    "                                        +raw.loc[select,'day_num'].astype(str))\n",
    "raw['Job Date'] = raw.Date"
   ]
  },
  {
   "cell_type": "code",
   "execution_count": null,
   "metadata": {},
   "outputs": [],
   "source": []
  },
  {
   "cell_type": "code",
   "execution_count": 17,
   "metadata": {},
   "outputs": [],
   "source": [
    "df = raw[['Location Id','Job Date','Job Time',\n",
    "    'Last Load Amount','Current Load Amount','G4S Branch','G$S Branch','% Cash Return/Atm','Replen','Valid Cash Return',\n",
    "    'Pre-Emptive','Remarks','Site Type','CATEGORY','PREMIUM SITES',\n",
    "   'Atm Location']].copy()"
   ]
  },
  {
   "cell_type": "code",
   "execution_count": 18,
   "metadata": {},
   "outputs": [],
   "source": [
    "df.dropna(subset=['Location Id'], inplace=True)\n",
    "df['G4S Branch'] = df['G4S Branch'].fillna(df['G$S Branch'])\n",
    "df = df.reset_index(drop=True)\n",
    "df.drop(columns=['G$S Branch'], inplace=True)"
   ]
  },
  {
   "cell_type": "code",
   "execution_count": 19,
   "metadata": {},
   "outputs": [
    {
     "data": {
      "text/plain": [
       "_forecasted        73790\n",
       "_cassettefault    108120\n",
       "_bpi                7159\n",
       "_others            30404\n",
       "dtype: int64"
      ]
     },
     "execution_count": 19,
     "metadata": {},
     "output_type": "execute_result"
    }
   ],
   "source": [
    "df['_forecasted'] = df.Remarks.fillna(\"\").str.contains('CASTED')\n",
    "df['_cassettefault'] = df.Remarks.str.contains('XCF') | df.Remarks.str.contains('FAULT')\n",
    "df['_bpi'] = df['Pre-Emptive'].astype(str).fillna('_').str.contains('BPI')\n",
    "df['_others'] = (df._forecasted | df._bpi | df._cassettefault) == False\n",
    "df[['_forecasted','_cassettefault','_bpi','_others']].sum()"
   ]
  },
  {
   "cell_type": "code",
   "execution_count": 22,
   "metadata": {},
   "outputs": [],
   "source": [
    "remarks = pd.read_csv(out+'80 Review Replenishment Remarks.csv')"
   ]
  },
  {
   "cell_type": "code",
   "execution_count": 39,
   "metadata": {
    "scrolled": true
   },
   "outputs": [],
   "source": [
    "df = df.merge(remarks[['Remarks','FAILURE','FORECAST','BPI','OTHERS']].drop_duplicates(subset='Remarks'))"
   ]
  },
  {
   "cell_type": "code",
   "execution_count": 46,
   "metadata": {},
   "outputs": [],
   "source": [
    "df['reload_type'] = 'FAILURE'\n",
    "df.loc[~df.FORECAST.isnull(),'reload_type']=\"FORECAST\"\n",
    "df.loc[~df.OTHERS.isnull(),'reload_type']=\"OTHERS\"\n",
    "df.loc[~df.BPI.isnull(),'reload_type']=\"OTHERS\""
   ]
  },
  {
   "cell_type": "code",
   "execution_count": 47,
   "metadata": {},
   "outputs": [
    {
     "data": {
      "text/plain": [
       "FAILURE     111094\n",
       "FORECAST     84419\n",
       "OTHERS       16739\n",
       "Name: reload_type, dtype: int64"
      ]
     },
     "execution_count": 47,
     "metadata": {},
     "output_type": "execute_result"
    }
   ],
   "source": [
    "df.reload_type.value_counts()"
   ]
  },
  {
   "cell_type": "code",
   "execution_count": 48,
   "metadata": {},
   "outputs": [],
   "source": [
    "# df[~(df['Pre-Emptive'].astype(str).str.contains('PRE').values)& (df._cassettefault)].Remarks.unique()"
   ]
  },
  {
   "cell_type": "code",
   "execution_count": 49,
   "metadata": {},
   "outputs": [],
   "source": [
    "# df[df._others].Remarks.unique().tolist()"
   ]
  },
  {
   "cell_type": "code",
   "execution_count": 50,
   "metadata": {},
   "outputs": [],
   "source": [
    "# df[['Job Date','Replen','Valid Cash Return','Pre-Emptive','Remarks']].drop_duplicates().to_csv(out+'80 Review Replenishment Remarks.csv')"
   ]
  },
  {
   "cell_type": "code",
   "execution_count": 51,
   "metadata": {
    "scrolled": true
   },
   "outputs": [],
   "source": [
    "#retain PRE-EMPTIVE DUE TO CF in scenario analysis\n",
    "# df.groupby(['Replen','Pre-Emptive']).size().reset_index()"
   ]
  },
  {
   "cell_type": "code",
   "execution_count": 52,
   "metadata": {},
   "outputs": [],
   "source": [
    "#only 1 ATM changed location\n",
    "# df[['Location Id','Atm Location']].drop_duplicates().groupby(['Location Id']).count()['Atm Location'].value_counts()"
   ]
  },
  {
   "cell_type": "code",
   "execution_count": 53,
   "metadata": {},
   "outputs": [],
   "source": [
    "fin = df[['Location Id','Job Date','Last Load Amount','Current Load Amount','% Cash Return/Atm','Replen','Pre-Emptive','_forecasted','_cassettefault','_bpi','_others','reload_type']].copy()"
   ]
  },
  {
   "cell_type": "code",
   "execution_count": 55,
   "metadata": {
    "scrolled": true
   },
   "outputs": [
    {
     "name": "stdout",
     "output_type": "stream",
     "text": [
      "<class 'pandas.core.frame.DataFrame'>\n",
      "Int64Index: 212252 entries, 0 to 212251\n",
      "Data columns (total 12 columns):\n",
      " #   Column               Non-Null Count   Dtype         \n",
      "---  ------               --------------   -----         \n",
      " 0   Location Id          212252 non-null  float64       \n",
      " 1   Job Date             212252 non-null  datetime64[ns]\n",
      " 2   Last Load Amount     212249 non-null  object        \n",
      " 3   Current Load Amount  212252 non-null  object        \n",
      " 4   % Cash Return/Atm    212252 non-null  float64       \n",
      " 5   Replen               212252 non-null  object        \n",
      " 6   Pre-Emptive          212252 non-null  object        \n",
      " 7   _forecasted          212252 non-null  bool          \n",
      " 8   _cassettefault       212252 non-null  bool          \n",
      " 9   _bpi                 212252 non-null  bool          \n",
      " 10  _others              212252 non-null  bool          \n",
      " 11  reload_type          212252 non-null  object        \n",
      "dtypes: bool(4), datetime64[ns](1), float64(2), object(5)\n",
      "memory usage: 15.4+ MB\n"
     ]
    }
   ],
   "source": [
    "fin.info()"
   ]
  },
  {
   "cell_type": "code",
   "execution_count": 56,
   "metadata": {},
   "outputs": [],
   "source": [
    "fin['TID'] = fin['Location Id'].astype(int).astype(str)"
   ]
  },
  {
   "cell_type": "code",
   "execution_count": 57,
   "metadata": {},
   "outputs": [],
   "source": [
    "fin['DATE'] = pd.to_datetime(fin['Job Date'], dayfirst=True)"
   ]
  },
  {
   "cell_type": "code",
   "execution_count": 58,
   "metadata": {},
   "outputs": [],
   "source": [
    "fin.drop(columns=['Location Id','Job Date']).to_pickle(out+'Actual/80 Replenishment.pkl')"
   ]
  },
  {
   "cell_type": "code",
   "execution_count": null,
   "metadata": {},
   "outputs": [],
   "source": []
  }
 ],
 "metadata": {
  "kernelspec": {
   "display_name": "Python 3",
   "language": "python",
   "name": "python3"
  },
  "language_info": {
   "codemirror_mode": {
    "name": "ipython",
    "version": 3
   },
   "file_extension": ".py",
   "mimetype": "text/x-python",
   "name": "python",
   "nbconvert_exporter": "python",
   "pygments_lexer": "ipython3",
   "version": "3.7.3"
  }
 },
 "nbformat": 4,
 "nbformat_minor": 4
}
