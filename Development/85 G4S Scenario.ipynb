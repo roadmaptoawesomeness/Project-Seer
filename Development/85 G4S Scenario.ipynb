{
 "cells": [
  {
   "cell_type": "code",
   "execution_count": 1,
   "metadata": {},
   "outputs": [],
   "source": [
    "import numpy as np\n",
    "import pandas as pd\n",
    "\n",
    "import f_validate_g4s as ed\n",
    "\n",
    "from datetime import timedelta\n",
    "from time import time\n",
    "\n",
    "pd.options.display.float_format = '{:.2f}'.format\n",
    "pd.set_option('display.max_rows', 100)"
   ]
  },
  {
   "cell_type": "code",
   "execution_count": 95,
   "metadata": {},
   "outputs": [
    {
     "data": {
      "text/html": [
       "<table style=\"border: 2px solid white;\">\n",
       "<tr>\n",
       "<td style=\"vertical-align: top; border: 0px solid white\">\n",
       "<h3>Client</h3>\n",
       "<ul>\n",
       "  <li><b>Scheduler: </b>tcp://127.0.0.1:59039\n",
       "  <li><b>Dashboard: </b><a href='http://127.0.0.1:8787/status' target='_blank'>http://127.0.0.1:8787/status</a>\n",
       "</ul>\n",
       "</td>\n",
       "<td style=\"vertical-align: top; border: 0px solid white\">\n",
       "<h3>Cluster</h3>\n",
       "<ul>\n",
       "  <li><b>Workers: </b>12</li>\n",
       "  <li><b>Cores: </b>12</li>\n",
       "  <li><b>Memory: </b>34.14 GB</li>\n",
       "</ul>\n",
       "</td>\n",
       "</tr>\n",
       "</table>"
      ],
      "text/plain": [
       "<Client: scheduler='tcp://127.0.0.1:59039' processes=12 cores=12>"
      ]
     },
     "execution_count": 95,
     "metadata": {},
     "output_type": "execute_result"
    }
   ],
   "source": [
    "# %load D:/BUDS_MID/__initdask__.py\n",
    "\"\"\"\n",
    "Created on Wed Feb 19 16:24:03 2020\n",
    "\n",
    "@author: cmchico\n",
    "\"\"\"\n",
    "import dask.bag as db\n",
    "from dask.distributed import Client, progress\n",
    "from dask import delayed\n",
    "\n",
    "client = Client(processes = True,n_workers=12)\n",
    "client"
   ]
  },
  {
   "cell_type": "code",
   "execution_count": 88,
   "metadata": {},
   "outputs": [],
   "source": [
    "path = 'D:/BUDS_MID/OJT ATM/ATM Forecasting Data New/'"
   ]
  },
  {
   "cell_type": "code",
   "execution_count": 3,
   "metadata": {},
   "outputs": [],
   "source": [
    "test_dates = pd.date_range(start='01/01/2019',end='12/31/2019')"
   ]
  },
  {
   "cell_type": "code",
   "execution_count": 104,
   "metadata": {},
   "outputs": [
    {
     "name": "stdout",
     "output_type": "stream",
     "text": [
      "<class 'pandas.core.frame.DataFrame'>\n",
      "RangeIndex: 212252 entries, 0 to 212251\n",
      "Data columns (total 8 columns):\n",
      " #   Column               Non-Null Count   Dtype         \n",
      "---  ------               --------------   -----         \n",
      " 0   Last Load Amount     212249 non-null  object        \n",
      " 1   Current Load Amount  212252 non-null  int32         \n",
      " 2   % Cash Return/Atm    212252 non-null  float64       \n",
      " 3   Replen               212252 non-null  object        \n",
      " 4   Pre-Emptive          212252 non-null  object        \n",
      " 5   TID                  212252 non-null  object        \n",
      " 6   DATE                 212252 non-null  datetime64[ns]\n",
      " 7   date_str             212252 non-null  object        \n",
      "dtypes: datetime64[ns](1), float64(1), int32(1), object(5)\n",
      "memory usage: 12.1+ MB\n"
     ]
    }
   ],
   "source": [
    "reload_df = pd.read_pickle(path+'Actual/80 Replenishment.pkl')\n",
    "reload_df = reload_df.sort_values(['TID','DATE'],ignore_index=True)\n",
    "reload_df['Pre-Emptive'] = reload_df['Pre-Emptive'].str.strip().fillna(\"NORMAL LOADING\")\n",
    "reload_df['date_str'] = reload_df.DATE.astype(str)\n",
    "\n",
    "\n",
    "reload_df['Current Load Amount'] = reload_df['Current Load Amount'].astype(str).str.strip().str.replace(\"\",\"\")\n",
    "select = reload_df['Current Load Amount']==\"\"\n",
    "reload_df.loc[select,'Current Load Amount'] = \"0\"\n",
    "reload_df['Current Load Amount'] = reload_df['Current Load Amount'].astype(int)\n",
    "\n",
    "reload_df.info()"
   ]
  },
  {
   "cell_type": "code",
   "execution_count": 105,
   "metadata": {},
   "outputs": [
    {
     "data": {
      "text/plain": [
       "NORMAL LOADING           122370\n",
       "PRE-EMPTIVE               67953\n",
       "PRE-EMPTIVE DUE TO CF     14770\n",
       "BPI INITIATIVE             7159\n",
       "Name: Pre-Emptive, dtype: int64"
      ]
     },
     "execution_count": 105,
     "metadata": {},
     "output_type": "execute_result"
    }
   ],
   "source": [
    "reload_df['Pre-Emptive'].value_counts()"
   ]
  },
  {
   "cell_type": "code",
   "execution_count": 63,
   "metadata": {},
   "outputs": [],
   "source": []
  },
  {
   "cell_type": "code",
   "execution_count": 106,
   "metadata": {},
   "outputs": [
    {
     "name": "stdout",
     "output_type": "stream",
     "text": [
      "<class 'pandas.core.frame.DataFrame'>\n",
      "Int64Index: 299300 entries, 6440 to 2576304\n",
      "Data columns (total 6 columns):\n",
      " #   Column       Non-Null Count   Dtype         \n",
      "---  ------       --------------   -----         \n",
      " 0   DATE         299300 non-null  datetime64[ns]\n",
      " 1   TID          299300 non-null  object        \n",
      " 2   WDL_AMT      299300 non-null  float64       \n",
      " 3   WDL_AMT_FIN  299300 non-null  float64       \n",
      " 4   AMOUNT_SUM   299300 non-null  float64       \n",
      " 5   date_str     299300 non-null  object        \n",
      "dtypes: datetime64[ns](1), float64(3), object(2)\n",
      "memory usage: 16.0+ MB\n"
     ]
    }
   ],
   "source": [
    "actual=pd.read_pickle(path+'Actual/82 Aggregated TID WDL.pkl')\n",
    "actual['AMOUNT_SUM'] = actual['WDL_AMT']\n",
    "actual['date_str'] = actual.DATE.astype(str)\n",
    "actual = actual[actual.DATE.isin(test_dates)].copy()\n",
    "actual.TID = actual.TID.astype(str)\n",
    "actual.info()"
   ]
  },
  {
   "cell_type": "code",
   "execution_count": 107,
   "metadata": {},
   "outputs": [],
   "source": [
    "reload_df = reload_df[reload_df.DATE.isin(test_dates)].copy()\n",
    "reload_df = reload_df.sort_values(['TID','DATE'],ignore_index=True)"
   ]
  },
  {
   "cell_type": "code",
   "execution_count": 108,
   "metadata": {},
   "outputs": [],
   "source": [
    "first_reload = reload_df.drop_duplicates(subset=(['TID'])).copy()"
   ]
  },
  {
   "cell_type": "code",
   "execution_count": 109,
   "metadata": {},
   "outputs": [
    {
     "name": "stdout",
     "output_type": "stream",
     "text": [
      "No. of ATMs from Raw: 820\n",
      "NO of ATMs from G4S: 1560\n",
      "NO of ATMs for simulation: 820\n"
     ]
    }
   ],
   "source": [
    "# actual\n",
    "atms_raw = actual.TID.unique().tolist()\n",
    "atms = [atm for atm in atms_raw if atm in first_reload.TID.unique()]\n",
    "\n",
    "print(f'No. of ATMs from Raw: {len(atms_raw)}')\n",
    "\n",
    "print(f'NO of ATMs from G4S: {first_reload.TID.nunique()}')\n",
    "print(f'NO of ATMs for simulation: {len(atms)}')"
   ]
  },
  {
   "cell_type": "code",
   "execution_count": 110,
   "metadata": {},
   "outputs": [],
   "source": [
    "r = 0.05/365\n",
    "reload_charge=2000\n",
    "threshold=0.25"
   ]
  },
  {
   "cell_type": "code",
   "execution_count": 111,
   "metadata": {},
   "outputs": [],
   "source": [
    "def par(atm):\n",
    "    date_o = first_reload.loc[first_reload['TID'] == atm].reset_index().DATE[0]\n",
    "    actual_atm = actual[(actual['TID'] == atm) & (actual.DATE >= date_o)].reset_index(drop=True).copy()\n",
    "    \n",
    "    g4s = reload_df[reload_df['TID'] == atm].set_index('date_str').copy()\n",
    "    \n",
    "    g4s_all_sched = ed.validate_g4s(actual_atm, g4s, r=r,reload_charge=reload_charge, threshold=threshold)\n",
    "    \n",
    "    g4s_all_sched.to_csv(path+'G4S Schedule/_sched_'+ atm+'.csv')\n",
    "    ss=g4s_all_sched.groupby('cog_preemptive') \\\n",
    "                        [['reload_flag','cashout_flag','thresh_breach_flag','necessary_flag',\n",
    "                                             'civ_cost','reload_cost']].sum().reset_index()\n",
    "    ss['tid']=atm\n",
    "    \n",
    "    ss.to_csv(path+'G4S Schedule Perf/_schedperf_'+ atm+'.csv')\n",
    "    return g4s_all_sched,ss"
   ]
  },
  {
   "cell_type": "code",
   "execution_count": 93,
   "metadata": {},
   "outputs": [
    {
     "name": "stdout",
     "output_type": "stream",
     "text": [
      "No. of ATMs from Raw: 820\n",
      "91018070\n",
      "91018076\n",
      "91018077\n",
      "91018078\n",
      "0:00:00.423520\n"
     ]
    }
   ],
   "source": [
    "g4s_all_sched = dict()\n",
    "g4s_all_ssum = dict()\n",
    "\n",
    "print(f'No. of ATMs from Raw: {len(atms)}')\n",
    "\n",
    "for atm in atms[296:300]:\n",
    "    #first reload date\n",
    "    print(atm)\n",
    "    start = time()\n",
    "    date_o = first_reload.loc[first_reload['TID'] == atm].reset_index().DATE[0]\n",
    "    actual_atm = actual[(actual['TID'] == atm) & (actual.DATE >= date_o)].reset_index(drop=True).copy()\n",
    "    \n",
    "    g4s = reload_df[reload_df['TID'] == atm].set_index('date_str').copy()\n",
    "    \n",
    "    g4s_all_sched[atm] = ed.validate_g4s(actual_atm, g4s, r=r,reload_charge=reload_charge, threshold=threshold)\n",
    "    \n",
    "    g4s_all_sched[atm].to_csv(path+'G4S Schedule/_sched_'+ atm+'.csv')\n",
    "    ss=g4s_all_sched[atm].groupby('cog_preemptive') \\\n",
    "                        [['reload_flag','cashout_flag','thresh_breach_flag','necessary_flag',\n",
    "                                             'civ_cost','reload_cost']].sum().reset_index()\n",
    "    ss['tid']=atm\n",
    "    \n",
    "    ss.to_csv(path+'G4S Schedule Perf/_schedperf_'+ atm+'.csv')\n",
    "    g4s_all_ssum[atm] = ss\n",
    "print(timedelta(seconds=time()-start))"
   ]
  },
  {
   "cell_type": "code",
   "execution_count": 115,
   "metadata": {},
   "outputs": [],
   "source": [
    "dbatms = db.from_sequence(atms)\n",
    "dbmaster = dbatms.map(par)"
   ]
  },
  {
   "cell_type": "code",
   "execution_count": 116,
   "metadata": {},
   "outputs": [
    {
     "name": "stdout",
     "output_type": "stream",
     "text": [
      "0:10:13.253472\n"
     ]
    }
   ],
   "source": [
    "start=time()\n",
    "df = dbmaster.compute()\n",
    "print(timedelta(seconds=time()-start))"
   ]
  },
  {
   "cell_type": "code",
   "execution_count": 122,
   "metadata": {},
   "outputs": [],
   "source": [
    "g4s_perf = pd.concat([df[i][1] for i in range(len(atms))], ignore_index=True)"
   ]
  },
  {
   "cell_type": "code",
   "execution_count": 128,
   "metadata": {},
   "outputs": [],
   "source": [
    "g4s_sched = pd.concat([df[i][0].assign(tid=atms[i]) for i in range(len(atms))], ignore_index=True)"
   ]
  },
  {
   "cell_type": "code",
   "execution_count": 130,
   "metadata": {},
   "outputs": [],
   "source": [
    "g4s_perf.to_csv(path+'85 G4S perf 2019.csv')\n",
    "g4s_sched.to_pickle(path+'85 G4S sched 2019.pkl')"
   ]
  },
  {
   "cell_type": "code",
   "execution_count": 131,
   "metadata": {},
   "outputs": [
    {
     "data": {
      "text/html": [
       "<div>\n",
       "<style scoped>\n",
       "    .dataframe tbody tr th:only-of-type {\n",
       "        vertical-align: middle;\n",
       "    }\n",
       "\n",
       "    .dataframe tbody tr th {\n",
       "        vertical-align: top;\n",
       "    }\n",
       "\n",
       "    .dataframe thead th {\n",
       "        text-align: right;\n",
       "    }\n",
       "</style>\n",
       "<table border=\"1\" class=\"dataframe\">\n",
       "  <thead>\n",
       "    <tr style=\"text-align: right;\">\n",
       "      <th></th>\n",
       "      <th>date_str</th>\n",
       "      <th>AMOUNT_SUM</th>\n",
       "      <th>start_bal</th>\n",
       "      <th>start_reload</th>\n",
       "      <th>total_bal</th>\n",
       "      <th>end_bal</th>\n",
       "      <th>last_load_amt</th>\n",
       "      <th>threshold</th>\n",
       "      <th>reload_flag</th>\n",
       "      <th>cashout_flag</th>\n",
       "      <th>thresh_breach_flag</th>\n",
       "      <th>necessary_flag</th>\n",
       "      <th>civ_cost</th>\n",
       "      <th>reload_cost</th>\n",
       "      <th>total_cost</th>\n",
       "      <th>preemptive_flag</th>\n",
       "      <th>cog_preemptive</th>\n",
       "      <th>tid</th>\n",
       "    </tr>\n",
       "  </thead>\n",
       "  <tbody>\n",
       "    <tr>\n",
       "      <th>0</th>\n",
       "      <td>2019-01-01</td>\n",
       "      <td>220300.00</td>\n",
       "      <td>0.00</td>\n",
       "      <td>5200000.00</td>\n",
       "      <td>5200000.00</td>\n",
       "      <td>4979700.00</td>\n",
       "      <td>5200000.00</td>\n",
       "      <td>1300000.00</td>\n",
       "      <td>1</td>\n",
       "      <td>0</td>\n",
       "      <td>0</td>\n",
       "      <td>0</td>\n",
       "      <td>682.15</td>\n",
       "      <td>2000</td>\n",
       "      <td>2682.15</td>\n",
       "      <td>1</td>\n",
       "      <td>NORMAL LOADING</td>\n",
       "      <td>91010018</td>\n",
       "    </tr>\n",
       "    <tr>\n",
       "      <th>1</th>\n",
       "      <td>2019-01-02</td>\n",
       "      <td>0.00</td>\n",
       "      <td>4979700.00</td>\n",
       "      <td>0.00</td>\n",
       "      <td>4979700.00</td>\n",
       "      <td>4979700.00</td>\n",
       "      <td>5200000.00</td>\n",
       "      <td>1300000.00</td>\n",
       "      <td>0</td>\n",
       "      <td>0</td>\n",
       "      <td>0</td>\n",
       "      <td>0</td>\n",
       "      <td>682.15</td>\n",
       "      <td>0</td>\n",
       "      <td>682.15</td>\n",
       "      <td>1</td>\n",
       "      <td>No Reload</td>\n",
       "      <td>91010018</td>\n",
       "    </tr>\n",
       "    <tr>\n",
       "      <th>2</th>\n",
       "      <td>2019-01-03</td>\n",
       "      <td>1631800.00</td>\n",
       "      <td>4979700.00</td>\n",
       "      <td>5200000.00</td>\n",
       "      <td>5200000.00</td>\n",
       "      <td>3568200.00</td>\n",
       "      <td>5200000.00</td>\n",
       "      <td>1300000.00</td>\n",
       "      <td>1</td>\n",
       "      <td>0</td>\n",
       "      <td>0</td>\n",
       "      <td>0</td>\n",
       "      <td>488.79</td>\n",
       "      <td>2000</td>\n",
       "      <td>2488.79</td>\n",
       "      <td>1</td>\n",
       "      <td>NORMAL LOADING</td>\n",
       "      <td>91010018</td>\n",
       "    </tr>\n",
       "    <tr>\n",
       "      <th>3</th>\n",
       "      <td>2019-01-04</td>\n",
       "      <td>2295300.00</td>\n",
       "      <td>3568200.00</td>\n",
       "      <td>0.00</td>\n",
       "      <td>3568200.00</td>\n",
       "      <td>1272900.00</td>\n",
       "      <td>5200000.00</td>\n",
       "      <td>1300000.00</td>\n",
       "      <td>0</td>\n",
       "      <td>0</td>\n",
       "      <td>1</td>\n",
       "      <td>0</td>\n",
       "      <td>174.37</td>\n",
       "      <td>0</td>\n",
       "      <td>174.37</td>\n",
       "      <td>1</td>\n",
       "      <td>No Reload</td>\n",
       "      <td>91010018</td>\n",
       "    </tr>\n",
       "    <tr>\n",
       "      <th>4</th>\n",
       "      <td>2019-01-05</td>\n",
       "      <td>2117100.00</td>\n",
       "      <td>1272900.00</td>\n",
       "      <td>0.00</td>\n",
       "      <td>1272900.00</td>\n",
       "      <td>-844200.00</td>\n",
       "      <td>5200000.00</td>\n",
       "      <td>1300000.00</td>\n",
       "      <td>0</td>\n",
       "      <td>1</td>\n",
       "      <td>1</td>\n",
       "      <td>0</td>\n",
       "      <td>0.00</td>\n",
       "      <td>0</td>\n",
       "      <td>0.00</td>\n",
       "      <td>0</td>\n",
       "      <td>No Reload</td>\n",
       "      <td>91010018</td>\n",
       "    </tr>\n",
       "    <tr>\n",
       "      <th>...</th>\n",
       "      <td>...</td>\n",
       "      <td>...</td>\n",
       "      <td>...</td>\n",
       "      <td>...</td>\n",
       "      <td>...</td>\n",
       "      <td>...</td>\n",
       "      <td>...</td>\n",
       "      <td>...</td>\n",
       "      <td>...</td>\n",
       "      <td>...</td>\n",
       "      <td>...</td>\n",
       "      <td>...</td>\n",
       "      <td>...</td>\n",
       "      <td>...</td>\n",
       "      <td>...</td>\n",
       "      <td>...</td>\n",
       "      <td>...</td>\n",
       "      <td>...</td>\n",
       "    </tr>\n",
       "    <tr>\n",
       "      <th>297806</th>\n",
       "      <td>2019-12-27</td>\n",
       "      <td>1634700.00</td>\n",
       "      <td>0.00</td>\n",
       "      <td>5200000.00</td>\n",
       "      <td>5200000.00</td>\n",
       "      <td>3565300.00</td>\n",
       "      <td>5200000.00</td>\n",
       "      <td>1300000.00</td>\n",
       "      <td>1</td>\n",
       "      <td>0</td>\n",
       "      <td>0</td>\n",
       "      <td>0</td>\n",
       "      <td>488.40</td>\n",
       "      <td>2000</td>\n",
       "      <td>2488.40</td>\n",
       "      <td>0</td>\n",
       "      <td>NORMAL LOADING</td>\n",
       "      <td>91016725</td>\n",
       "    </tr>\n",
       "    <tr>\n",
       "      <th>297807</th>\n",
       "      <td>2019-12-28</td>\n",
       "      <td>3281500.00</td>\n",
       "      <td>3565300.00</td>\n",
       "      <td>5200000.00</td>\n",
       "      <td>5200000.00</td>\n",
       "      <td>1918500.00</td>\n",
       "      <td>5200000.00</td>\n",
       "      <td>1300000.00</td>\n",
       "      <td>1</td>\n",
       "      <td>0</td>\n",
       "      <td>0</td>\n",
       "      <td>0</td>\n",
       "      <td>262.81</td>\n",
       "      <td>2000</td>\n",
       "      <td>2262.81</td>\n",
       "      <td>1</td>\n",
       "      <td>NORMAL LOADING</td>\n",
       "      <td>91016725</td>\n",
       "    </tr>\n",
       "    <tr>\n",
       "      <th>297808</th>\n",
       "      <td>2019-12-29</td>\n",
       "      <td>3161800.00</td>\n",
       "      <td>1918500.00</td>\n",
       "      <td>0.00</td>\n",
       "      <td>1918500.00</td>\n",
       "      <td>-1243300.00</td>\n",
       "      <td>5200000.00</td>\n",
       "      <td>1300000.00</td>\n",
       "      <td>0</td>\n",
       "      <td>1</td>\n",
       "      <td>1</td>\n",
       "      <td>0</td>\n",
       "      <td>0.00</td>\n",
       "      <td>0</td>\n",
       "      <td>0.00</td>\n",
       "      <td>1</td>\n",
       "      <td>No Reload</td>\n",
       "      <td>91016725</td>\n",
       "    </tr>\n",
       "    <tr>\n",
       "      <th>297809</th>\n",
       "      <td>2019-12-30</td>\n",
       "      <td>2005500.00</td>\n",
       "      <td>0.00</td>\n",
       "      <td>5200000.00</td>\n",
       "      <td>5200000.00</td>\n",
       "      <td>3194500.00</td>\n",
       "      <td>5200000.00</td>\n",
       "      <td>1300000.00</td>\n",
       "      <td>1</td>\n",
       "      <td>0</td>\n",
       "      <td>0</td>\n",
       "      <td>0</td>\n",
       "      <td>437.60</td>\n",
       "      <td>2000</td>\n",
       "      <td>2437.60</td>\n",
       "      <td>0</td>\n",
       "      <td>NORMAL LOADING</td>\n",
       "      <td>91016725</td>\n",
       "    </tr>\n",
       "    <tr>\n",
       "      <th>297810</th>\n",
       "      <td>2019-12-31</td>\n",
       "      <td>2033000.00</td>\n",
       "      <td>3194500.00</td>\n",
       "      <td>0.00</td>\n",
       "      <td>0.00</td>\n",
       "      <td>0.00</td>\n",
       "      <td>5200000.00</td>\n",
       "      <td>1300000.00</td>\n",
       "      <td>0</td>\n",
       "      <td>0</td>\n",
       "      <td>1</td>\n",
       "      <td>0</td>\n",
       "      <td>0.00</td>\n",
       "      <td>0</td>\n",
       "      <td>0.00</td>\n",
       "      <td>1</td>\n",
       "      <td>No Reload</td>\n",
       "      <td>91016725</td>\n",
       "    </tr>\n",
       "  </tbody>\n",
       "</table>\n",
       "<p>297811 rows × 18 columns</p>\n",
       "</div>"
      ],
      "text/plain": [
       "          date_str  AMOUNT_SUM  start_bal  start_reload  total_bal  \\\n",
       "0       2019-01-01   220300.00       0.00    5200000.00 5200000.00   \n",
       "1       2019-01-02        0.00 4979700.00          0.00 4979700.00   \n",
       "2       2019-01-03  1631800.00 4979700.00    5200000.00 5200000.00   \n",
       "3       2019-01-04  2295300.00 3568200.00          0.00 3568200.00   \n",
       "4       2019-01-05  2117100.00 1272900.00          0.00 1272900.00   \n",
       "...            ...         ...        ...           ...        ...   \n",
       "297806  2019-12-27  1634700.00       0.00    5200000.00 5200000.00   \n",
       "297807  2019-12-28  3281500.00 3565300.00    5200000.00 5200000.00   \n",
       "297808  2019-12-29  3161800.00 1918500.00          0.00 1918500.00   \n",
       "297809  2019-12-30  2005500.00       0.00    5200000.00 5200000.00   \n",
       "297810  2019-12-31  2033000.00 3194500.00          0.00       0.00   \n",
       "\n",
       "           end_bal  last_load_amt  threshold  reload_flag  cashout_flag  \\\n",
       "0       4979700.00     5200000.00 1300000.00            1             0   \n",
       "1       4979700.00     5200000.00 1300000.00            0             0   \n",
       "2       3568200.00     5200000.00 1300000.00            1             0   \n",
       "3       1272900.00     5200000.00 1300000.00            0             0   \n",
       "4       -844200.00     5200000.00 1300000.00            0             1   \n",
       "...            ...            ...        ...          ...           ...   \n",
       "297806  3565300.00     5200000.00 1300000.00            1             0   \n",
       "297807  1918500.00     5200000.00 1300000.00            1             0   \n",
       "297808 -1243300.00     5200000.00 1300000.00            0             1   \n",
       "297809  3194500.00     5200000.00 1300000.00            1             0   \n",
       "297810        0.00     5200000.00 1300000.00            0             0   \n",
       "\n",
       "        thresh_breach_flag  necessary_flag  civ_cost  reload_cost  total_cost  \\\n",
       "0                        0               0    682.15         2000     2682.15   \n",
       "1                        0               0    682.15            0      682.15   \n",
       "2                        0               0    488.79         2000     2488.79   \n",
       "3                        1               0    174.37            0      174.37   \n",
       "4                        1               0      0.00            0        0.00   \n",
       "...                    ...             ...       ...          ...         ...   \n",
       "297806                   0               0    488.40         2000     2488.40   \n",
       "297807                   0               0    262.81         2000     2262.81   \n",
       "297808                   1               0      0.00            0        0.00   \n",
       "297809                   0               0    437.60         2000     2437.60   \n",
       "297810                   1               0      0.00            0        0.00   \n",
       "\n",
       "        preemptive_flag  cog_preemptive       tid  \n",
       "0                     1  NORMAL LOADING  91010018  \n",
       "1                     1       No Reload  91010018  \n",
       "2                     1  NORMAL LOADING  91010018  \n",
       "3                     1       No Reload  91010018  \n",
       "4                     0       No Reload  91010018  \n",
       "...                 ...             ...       ...  \n",
       "297806                0  NORMAL LOADING  91016725  \n",
       "297807                1  NORMAL LOADING  91016725  \n",
       "297808                1       No Reload  91016725  \n",
       "297809                0  NORMAL LOADING  91016725  \n",
       "297810                1       No Reload  91016725  \n",
       "\n",
       "[297811 rows x 18 columns]"
      ]
     },
     "execution_count": 131,
     "metadata": {},
     "output_type": "execute_result"
    }
   ],
   "source": [
    "g4s_sched"
   ]
  },
  {
   "cell_type": "code",
   "execution_count": null,
   "metadata": {},
   "outputs": [],
   "source": []
  }
 ],
 "metadata": {
  "kernelspec": {
   "display_name": "Python 3",
   "language": "python",
   "name": "python3"
  },
  "language_info": {
   "codemirror_mode": {
    "name": "ipython",
    "version": 3
   },
   "file_extension": ".py",
   "mimetype": "text/x-python",
   "name": "python",
   "nbconvert_exporter": "python",
   "pygments_lexer": "ipython3",
   "version": "3.7.3"
  }
 },
 "nbformat": 4,
 "nbformat_minor": 4
}
