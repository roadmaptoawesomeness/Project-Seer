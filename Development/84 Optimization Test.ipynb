{
 "cells": [
  {
   "cell_type": "code",
   "execution_count": 11,
   "metadata": {},
   "outputs": [
    {
     "data": {
      "text/plain": [
       "'\\nCreated on Wed Feb 19 16:21:00 2020\\n\\n@author: cmchico\\n\\nusual imports\\n'"
      ]
     },
     "execution_count": 11,
     "metadata": {},
     "output_type": "execute_result"
    }
   ],
   "source": [
    "# %load D:/BUDS_MID/__init__.py\n",
    "\"\"\"\n",
    "Created on Wed Feb 19 16:21:00 2020\n",
    "\n",
    "@author: cmchico\n",
    "\n",
    "usual imports\n",
    "\"\"\"\n",
    "\n",
    "import os\n",
    "import pandas as pd\n",
    "import numpy as np\n",
    "\n",
    "pd.options.display.max_rows = 100\n",
    "pd.set_option('display.float_format', '{:.0f}'.format)\n",
    "\n",
    "\n",
    "import f_validate_g4s as ed\n",
    "\n",
    "from time import time\n",
    "from datetime import timedelta\n",
    "\n",
    "import pickle\n",
    "\n",
    "from IPython.core.interactiveshell import InteractiveShell\n",
    "InteractiveShell.ast_node_interactivity = \"all\""
   ]
  },
  {
   "cell_type": "code",
   "execution_count": 12,
   "metadata": {},
   "outputs": [
    {
     "data": {
      "text/plain": [
       "'\\nCreated on Wed Feb 19 16:24:03 2020\\n\\n@author: cmchico\\n'"
      ]
     },
     "execution_count": 12,
     "metadata": {},
     "output_type": "execute_result"
    },
    {
     "data": {
      "text/html": [
       "<table style=\"border: 2px solid white;\">\n",
       "<tr>\n",
       "<td style=\"vertical-align: top; border: 0px solid white\">\n",
       "<h3>Client</h3>\n",
       "<ul>\n",
       "  <li><b>Scheduler: </b>tcp://127.0.0.1:52358\n",
       "  <li><b>Dashboard: </b><a href='http://127.0.0.1:8787/status' target='_blank'>http://127.0.0.1:8787/status</a>\n",
       "</ul>\n",
       "</td>\n",
       "<td style=\"vertical-align: top; border: 0px solid white\">\n",
       "<h3>Cluster</h3>\n",
       "<ul>\n",
       "  <li><b>Workers: </b>12</li>\n",
       "  <li><b>Cores: </b>12</li>\n",
       "  <li><b>Memory: </b>34.14 GB</li>\n",
       "</ul>\n",
       "</td>\n",
       "</tr>\n",
       "</table>"
      ],
      "text/plain": [
       "<Client: scheduler='tcp://127.0.0.1:52358' processes=12 cores=12>"
      ]
     },
     "execution_count": 12,
     "metadata": {},
     "output_type": "execute_result"
    }
   ],
   "source": [
    "# %load D:/BUDS_MID/__initdask__.py\n",
    "\"\"\"\n",
    "Created on Wed Feb 19 16:24:03 2020\n",
    "\n",
    "@author: cmchico\n",
    "\"\"\"\n",
    "import dask.bag as db\n",
    "from dask.distributed import Client, progress\n",
    "\n",
    "client = Client(processes = True,n_workers=12)\n",
    "client"
   ]
  },
  {
   "cell_type": "code",
   "execution_count": 13,
   "metadata": {},
   "outputs": [],
   "source": [
    "path = \"D:/BUDS_MID/OJT ATM/ATM Forecasting Data New/\""
   ]
  },
  {
   "cell_type": "code",
   "execution_count": 18,
   "metadata": {},
   "outputs": [
    {
     "data": {
      "text/plain": [
       "2    256\n",
       "1    211\n",
       "3     42\n",
       "4      8\n",
       "Name: BR_TIDCOUNT, dtype: int64"
      ]
     },
     "execution_count": 18,
     "metadata": {},
     "output_type": "execute_result"
    }
   ],
   "source": [
    "test_dates = pd.date_range(start='01/01/2019',end='12/31/2019')\n",
    "mapp = pd.read_pickle(path+'Actual/89 TID Br map.pkl')\n",
    "#211 branches with just one ATM, can be treated as an ATM i/o Branch\n",
    "mapp[mapp.TID!=mapp.TID_BR].BR_TIDCOUNT.value_counts()"
   ]
  },
  {
   "cell_type": "code",
   "execution_count": 19,
   "metadata": {},
   "outputs": [
    {
     "name": "stdout",
     "output_type": "stream",
     "text": [
      "<class 'pandas.core.frame.DataFrame'>\n",
      "RangeIndex: 194966 entries, 0 to 194965\n",
      "Data columns (total 9 columns):\n",
      " #   Column               Non-Null Count   Dtype         \n",
      "---  ------               --------------   -----         \n",
      " 0   Last Load Amount     194965 non-null  object        \n",
      " 1   Current Load Amount  194966 non-null  int32         \n",
      " 2   % Cash Return/Atm    194966 non-null  float64       \n",
      " 3   Replen               194966 non-null  object        \n",
      " 4   Pre-Emptive          194966 non-null  object        \n",
      " 5   TID                  194966 non-null  object        \n",
      " 6   DATE                 194966 non-null  datetime64[ns]\n",
      " 7   date_str             194966 non-null  object        \n",
      " 8   TID_BR               120787 non-null  object        \n",
      "dtypes: datetime64[ns](1), float64(1), int32(1), object(6)\n",
      "memory usage: 12.6+ MB\n"
     ]
    }
   ],
   "source": [
    "reload_df = pd.read_pickle(path+'Actual/80 Replenishment.pkl')\n",
    "reload_df = reload_df.sort_values(['TID','DATE'],ignore_index=True)\n",
    "reload_df['Pre-Emptive'] = reload_df['Pre-Emptive'].str.strip().fillna(\"NORMAL LOADING\")\n",
    "reload_df['date_str'] = reload_df.DATE.astype(str)\n",
    "\n",
    "\n",
    "reload_df['Current Load Amount'] = reload_df['Current Load Amount'].astype(str).str.strip().str.replace(\"\",\"\")\n",
    "select = reload_df['Current Load Amount']==\"\"\n",
    "reload_df.loc[select,'Current Load Amount'] = \"0\"\n",
    "reload_df['Current Load Amount'] = reload_df['Current Load Amount'].astype(int)\n",
    "\n",
    "reload_df = reload_df[reload_df.DATE.isin(test_dates)].copy()\n",
    "reload_df = reload_df.sort_values(['TID','DATE'],ignore_index=True)\n",
    "reload_df['TID_BR'] = reload_df.TID.map(mapp.set_index('TID').TID_BR.to_dict())\n",
    "\n",
    "first_reload = reload_df.drop_duplicates(subset=(['TID'])).copy()\n",
    "\n",
    "reload_df.info()"
   ]
  },
  {
   "cell_type": "code",
   "execution_count": 28,
   "metadata": {},
   "outputs": [],
   "source": [
    "preempt = reload_df[reload_df['Pre-Emptive'] =='PRE-EMPTIVE DUE TO CF'][['date_str','TID_BR','Pre-Emptive','Current Load Amount']]"
   ]
  },
  {
   "cell_type": "code",
   "execution_count": 21,
   "metadata": {},
   "outputs": [
    {
     "name": "stdout",
     "output_type": "stream",
     "text": [
      "<class 'pandas.core.frame.DataFrame'>\n",
      "RangeIndex: 2255526 entries, 0 to 2255525\n",
      "Data columns (total 9 columns):\n",
      " #   Column       Dtype         \n",
      "---  ------       -----         \n",
      " 0   Unnamed: 0   int64         \n",
      " 1   ds           object        \n",
      " 2   y            float64       \n",
      " 3   yhat         float64       \n",
      " 4   pred_date    object        \n",
      " 5   pred_day     object        \n",
      " 6   se           float64       \n",
      " 7   tid          object        \n",
      " 8   pred_date_D  datetime64[ns]\n",
      "dtypes: datetime64[ns](1), float64(3), int64(1), object(4)\n",
      "memory usage: 154.9+ MB\n"
     ]
    }
   ],
   "source": [
    "df = pd.concat([pd.read_csv(path+'Prophet Forecast/'+i, dtype={'ds':'str','pred_date':'str','tid':'str'}) \n",
    "                for i in os.listdir(path+'Prophet Forecast/')],ignore_index=True)\n",
    "df['pred_date_D'] = pd.to_datetime(df.pred_date)\n",
    "df.info()"
   ]
  },
  {
   "cell_type": "code",
   "execution_count": 22,
   "metadata": {},
   "outputs": [],
   "source": [
    "df.sort_values(['tid','pred_date','ds'], inplace=True)"
   ]
  },
  {
   "cell_type": "code",
   "execution_count": 23,
   "metadata": {},
   "outputs": [],
   "source": [
    "actual = df[df.pred_day.isin(['day 0','day 1','day 2'])].pivot_table(index=['tid','pred_date','pred_date_D'],columns='pred_day',values='yhat',aggfunc=sum).reset_index()\n",
    "actual.columns=['tid','pred_date','pred_date_D','yhat0','yhat1','yhat2']\n",
    "actual[['date_str','y']] = df[df.pred_day=='day 0'][['ds','y']].reset_index(drop=True)"
   ]
  },
  {
   "cell_type": "code",
   "execution_count": 24,
   "metadata": {},
   "outputs": [
    {
     "data": {
      "text/plain": [
       "393"
      ]
     },
     "execution_count": 24,
     "metadata": {},
     "output_type": "execute_result"
    }
   ],
   "source": [
    "atms = [atm for atm in actual.tid.unique() if atm in mapp[mapp.BR_TIDCOUNT==1].TID_BR.unique()]\n",
    "len(atms)"
   ]
  },
  {
   "cell_type": "code",
   "execution_count": 25,
   "metadata": {},
   "outputs": [],
   "source": [
    "def par(atm,rel_amt):\n",
    "    \n",
    "    date_o = first_reload.loc[first_reload['TID_BR'] == atm].reset_index().DATE[0]\n",
    "    actual_atm = actual[(actual.tid== atm) & (actual.pred_date_D >= date_o-timedelta(days=1))].reset_index(drop=True).copy()\n",
    "\n",
    "    g4s=preempt[preempt.TID_BR==atm].set_index('date_str')\n",
    "    g4s['Current Load Amount'] = rel_amt\n",
    "    \n",
    "    if g4s.shape[0]==0: g4s=None\n",
    "    sched_= ed.sched(actual_atm,rel_amt=rel_amt,pred=pred,r=r,reload_charge=reload_charge,\n",
    "                      threshold=threshold, hor=hor,g4s=g4s)\n",
    "    sched_['fix_rel']=rel_amt\n",
    "    ss=sched_.groupby('cog_preemptive') \\\n",
    "                        [['reload_flag','cashout_flag','thresh_breach_flag','necessary_flag',\n",
    "                                             'civ_cost','reload_cost']].sum().reset_index()\n",
    "    ss['tid']=atm\n",
    "    ss['fix_rel'] = rel_amt\n",
    "    sched_.to_csv(path+'Prophet Test Thresh 25/_sched_'+atm+'_'+str(rel_amt)[:2]+'.csv')\n",
    "    ss.to_csv(path+'Prophet Test Perf Thresh 25/_schedperf_'+ atm+'_'+str(rel_amt)[:2]+'.csv')\n",
    "    \n",
    "    return sched_,ss"
   ]
  },
  {
   "cell_type": "code",
   "execution_count": null,
   "metadata": {},
   "outputs": [],
   "source": []
  },
  {
   "cell_type": "code",
   "execution_count": null,
   "metadata": {},
   "outputs": [],
   "source": []
  },
  {
   "cell_type": "code",
   "execution_count": null,
   "metadata": {},
   "outputs": [],
   "source": []
  },
  {
   "cell_type": "code",
   "execution_count": 29,
   "metadata": {},
   "outputs": [],
   "source": [
    "rel_amt=3200000\n",
    "pred = ['yhat0','yhat1','yhat2']\n",
    "hor=len(pred)-1\n",
    "r = 0.05/365\n",
    "reload_charge=2000\n",
    "threshold=0.25\n",
    "\n",
    "\n",
    "# start=time()\n",
    "# for atm in atms[:1]:\n",
    "#     actual_atm = actual[actual.tid==atm].reset_index(drop=True)\n",
    "#     g4s=preempt[preempt.TID==atm].set_index('date_str')\n",
    "    \n",
    "#     if g4s.shape[0]==0: g4s=None\n",
    "#     sched_= ed.sched(actual_atm,rel_amt=rel_amt,pred=pred,r=r,reload_charge=reload_charge,\n",
    "#                       threshold=threshold, hor=hor,g4s=g4s)\n",
    "#     ss=sched_.groupby('cog_preemptive') \\\n",
    "#                         [['reload_flag','cashout_flag','thresh_breach_flag','necessary_flag',\n",
    "#                                              'civ_cost','reload_cost']].sum().reset_index()\n",
    "#     ss['tid']=atm\n",
    "    \n",
    "#     sched_.to_csv(path+'/Prophet Test/_sched_'+atm+'.csv')\n",
    "#     ss.to_csv(path+'Prophet Test Perf/_schedperf_'+ atm+'.csv')\n",
    "#     print(atm)\n",
    "#     print(timedelta(seconds=time()-start))"
   ]
  },
  {
   "cell_type": "code",
   "execution_count": null,
   "metadata": {},
   "outputs": [],
   "source": []
  },
  {
   "cell_type": "code",
   "execution_count": null,
   "metadata": {},
   "outputs": [],
   "source": []
  },
  {
   "cell_type": "code",
   "execution_count": null,
   "metadata": {},
   "outputs": [],
   "source": []
  },
  {
   "cell_type": "code",
   "execution_count": 31,
   "metadata": {},
   "outputs": [
    {
     "name": "stdout",
     "output_type": "stream",
     "text": [
      "0:06:39.649367\n"
     ]
    }
   ],
   "source": [
    "dbatms = db.from_sequence(atms)\n",
    "dbmaster = dbatms.map(par,rel_amt=3200000)\n",
    "\n",
    "start=time()\n",
    "df = dbmaster.compute()\n",
    "print(timedelta(seconds=time()-start))"
   ]
  },
  {
   "cell_type": "code",
   "execution_count": 32,
   "metadata": {},
   "outputs": [
    {
     "name": "stdout",
     "output_type": "stream",
     "text": [
      "0:06:35.576525\n"
     ]
    }
   ],
   "source": [
    "dbatms = db.from_sequence(atms)\n",
    "dbmaster = dbatms.map(par,rel_amt=4200000)\n",
    "\n",
    "start=time()\n",
    "df = dbmaster.compute()\n",
    "print(timedelta(seconds=time()-start))"
   ]
  },
  {
   "cell_type": "code",
   "execution_count": 33,
   "metadata": {},
   "outputs": [
    {
     "name": "stdout",
     "output_type": "stream",
     "text": [
      "0:06:41.222555\n"
     ]
    }
   ],
   "source": [
    "dbatms = db.from_sequence(atms)\n",
    "dbmaster = dbatms.map(par,rel_amt=5200000)\n",
    "\n",
    "start=time()\n",
    "df = dbmaster.compute()\n",
    "print(timedelta(seconds=time()-start))"
   ]
  },
  {
   "cell_type": "code",
   "execution_count": 34,
   "metadata": {},
   "outputs": [
    {
     "name": "stdout",
     "output_type": "stream",
     "text": [
      "0:06:17.943774\n"
     ]
    }
   ],
   "source": [
    "dbatms = db.from_sequence(atms)\n",
    "dbmaster = dbatms.map(par,rel_amt=6200000)\n",
    "\n",
    "start=time()\n",
    "df = dbmaster.compute()\n",
    "print(timedelta(seconds=time()-start))"
   ]
  },
  {
   "cell_type": "code",
   "execution_count": null,
   "metadata": {},
   "outputs": [],
   "source": []
  }
 ],
 "metadata": {
  "kernelspec": {
   "display_name": "Python 3",
   "language": "python",
   "name": "python3"
  },
  "language_info": {
   "codemirror_mode": {
    "name": "ipython",
    "version": 3
   },
   "file_extension": ".py",
   "mimetype": "text/x-python",
   "name": "python",
   "nbconvert_exporter": "python",
   "pygments_lexer": "ipython3",
   "version": "3.7.3"
  }
 },
 "nbformat": 4,
 "nbformat_minor": 4
}
