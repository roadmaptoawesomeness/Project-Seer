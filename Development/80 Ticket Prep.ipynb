{
 "cells": [
  {
   "cell_type": "code",
   "execution_count": 1,
   "metadata": {},
   "outputs": [],
   "source": [
    "# %load D:/BUDS_MID/__init__.py\n",
    "\"\"\"\n",
    "Created on Wed Feb 19 16:21:00 2020\n",
    "\n",
    "@author: cmchico\n",
    "\n",
    "usual imports\n",
    "\"\"\"\n",
    "\n",
    "import os\n",
    "import pandas as pd\n",
    "import numpy as np\n",
    "\n",
    "pd.options.display.max_rows = 100\n",
    "pd.set_option('display.float_format', '{:.0f}'.format)\n",
    "\n",
    "from time import time\n",
    "from datetime import timedelta\n",
    "\n",
    "import pickle\n",
    "\n",
    "import datetime as dt"
   ]
  },
  {
   "cell_type": "code",
   "execution_count": 2,
   "metadata": {},
   "outputs": [
    {
     "data": {
      "text/html": [
       "<table style=\"border: 2px solid white;\">\n",
       "<tr>\n",
       "<td style=\"vertical-align: top; border: 0px solid white\">\n",
       "<h3>Client</h3>\n",
       "<ul>\n",
       "  <li><b>Scheduler: </b>tcp://127.0.0.1:49870\n",
       "  <li><b>Dashboard: </b><a href='http://127.0.0.1:8787/status' target='_blank'>http://127.0.0.1:8787/status</a>\n",
       "</ul>\n",
       "</td>\n",
       "<td style=\"vertical-align: top; border: 0px solid white\">\n",
       "<h3>Cluster</h3>\n",
       "<ul>\n",
       "  <li><b>Workers: </b>12</li>\n",
       "  <li><b>Cores: </b>12</li>\n",
       "  <li><b>Memory: </b>34.14 GB</li>\n",
       "</ul>\n",
       "</td>\n",
       "</tr>\n",
       "</table>"
      ],
      "text/plain": [
       "<Client: scheduler='tcp://127.0.0.1:49870' processes=12 cores=12>"
      ]
     },
     "execution_count": 2,
     "metadata": {},
     "output_type": "execute_result"
    }
   ],
   "source": [
    "# %load D:/BUDS_MID/__initdask__.py\n",
    "\"\"\"\n",
    "Created on Wed Feb 19 16:24:03 2020\n",
    "\n",
    "@author: cmchico\n",
    "\"\"\"\n",
    "import dask.bag as db\n",
    "from dask.distributed import Client, progress\n",
    "from dask import delayed\n",
    "\n",
    "client = Client(processes = True,n_workers=12)\n",
    "client"
   ]
  },
  {
   "cell_type": "code",
   "execution_count": 3,
   "metadata": {},
   "outputs": [],
   "source": [
    "out = 'D:/BUDS OUT/ATM Ticket/'"
   ]
  },
  {
   "cell_type": "markdown",
   "metadata": {},
   "source": [
    "### Step 1: Combine all Tickets to 1"
   ]
  },
  {
   "cell_type": "code",
   "execution_count": 4,
   "metadata": {},
   "outputs": [],
   "source": [
    "@delayed\n",
    "def get_comms(path):\n",
    "    df = pd.read_excel(path+'COMMS.xlsx',\n",
    "                usecols=['Ticket Identifier TH',\n",
    "                            'ATM ID TH',\n",
    "                            'Object  Address Line 1 TH',\n",
    "                            'Object City Name TH',\n",
    "                            'Start Date - Local TH',\n",
    "                            'End Date - Local TH',\n",
    "                            'Start Time - Local TH',\n",
    "                            'End Time - Local TH',\n",
    "                            'Total Ticket Duration TH',\n",
    "                             'TYPE'],\n",
    "                dtype={'Start Date - Local TH':str,\n",
    "                      'End Date - Local TH':str,\n",
    "                      'Start Time - Local TH':str,\n",
    "                      'End Time - Local TH':str}\n",
    "                             ).assign(t_type='COMMS')\n",
    "    \n",
    "    df['Final Actual Arr Date - Local TH'] = None\n",
    "    df['Final Actual Arr Time - Local TH'] = None\n",
    "    \n",
    "    df = df[df.TYPE == 'ATM'].copy()\n",
    "    df.rename(columns={\n",
    "    'ATM ID TH':'ATM',\n",
    "    'Ticket Identifier TH':'t_no',\n",
    "    'Object  Address Line 1 TH':'t_address',\n",
    "    'Object City Name TH':'t_city',\n",
    "    'Start Date - Local TH':'t_start_date',\n",
    "    'End Date - Local TH':'t_end_date',\n",
    "    'Start Time - Local TH':'t_start_time',\n",
    "    'End Time - Local TH':'t_end_time',\n",
    "    'Final Actual Arr Date - Local TH':'t_end_date2',\n",
    "    'Final Actual Arr Time - Local TH':'t_end_time2',\n",
    "    }, inplace=True)\n",
    "    return df[['ATM'] + [col for col in df.columns if col[:2]=='t_' ]]\n",
    "\n",
    "@delayed\n",
    "def get_others(path,type_):\n",
    "    \n",
    "    usecols_ = ['Ticket #', \n",
    "                    'Object ID','ATM Name', 'Area','Start Date', 'Start Time',\n",
    "                       'End Date', 'End Time','TYPE']\n",
    "    \n",
    "    dtype_ = {'Start Date':str,\n",
    "                   'Start Time':str,\n",
    "                  'End Date':str,\n",
    "                  'End Time':str} \n",
    "    \n",
    "    if type_ != 'OCCF':\n",
    "        usecols_ = usecols_ + ['Final Actual Arr Date','Final Actual Arr Time']\n",
    "        dtype_['Final Actual Arr Date'] = str\n",
    "        dtype_['Final Actual Arr Time'] = str\n",
    "    \n",
    "    df = pd.read_excel(path+type_+'.xlsx',\n",
    "            usecols=usecols_,\n",
    "            dtype=dtype_).assign(t_type=type_)\n",
    "    \n",
    "    df = df[df.TYPE == 'ATM'].copy()\n",
    "    df.rename(columns={\n",
    "    'Object ID':'ATM',\n",
    "    'Ticket #':'t_no',\n",
    "    'ATM Name':'t_address',\n",
    "    'Area':'t_city',\n",
    "    'Start Date':'t_start_date',\n",
    "    'End Date':'t_end_date',\n",
    "    'Start Time':'t_start_time',\n",
    "    'End Time':'t_end_time',\n",
    "    }, inplace=True)\n",
    "    \n",
    "    if type_ != 'OCCF':\n",
    "        df.rename(columns={'Final Actual Arr Date':'t_end_date2',\n",
    "                'Final Actual Arr Time':'t_end_time2'}, inplace=True)\n",
    "    else:\n",
    "        df['t_end_date2'] = None\n",
    "        df['t_end_time2'] = None\n",
    "    \n",
    "    return df\n",
    "\n",
    "@delayed\n",
    "def fix(df,year):\n",
    "#     df['t_start_date'] = df['t_start_date'].ffill()\n",
    "    df = df[~df.ATM.isnull()].copy()\n",
    "    df['t_start'] = pd.to_datetime(df['t_start_date'].ffill())\n",
    "    \n",
    "    #replace missing end date and time with Final Actual Arr date and time columns\n",
    "    df.t_end_date = df['t_end_date'].fillna(df.t_end_date2)\n",
    "    df.t_end_time = df['t_end_time'].fillna(df.t_end_time2)\n",
    "    \n",
    "    df['t_end'] = pd.to_datetime(df['t_end_date'])\n",
    "    \n",
    "    select = df[['t_start_date','t_start_time']].isnull().sum(axis=1)==0\n",
    "    df.loc[select,'t_start'] = pd.to_datetime(df.loc[select,'t_start_date'] + ' '+ df.loc[select,'t_start_time'])\n",
    "    \n",
    "    \n",
    "    select = df[['t_end_date','t_end_time']].isnull().sum(axis=1)==0\n",
    "    df.loc[select,'t_end'] = pd.to_datetime(df.loc[select,'t_end_date'] + ' '+ df.loc[select,'t_end_time'])\n",
    "    \n",
    "    #if missing end date, assume ticket unresolved, at least 1 day of unavailability\n",
    "    select = df.t_end_date.isnull()\n",
    "    df.loc[select,'t_end'] = df.loc[select,'t_start'] + timedelta(days=1)\n",
    "    \n",
    "    \n",
    "    #sanitation check, if end_date < start_date, correct end_date must be the final actual...\n",
    "    select = df.t_end < df.t_start\n",
    "    df.loc[select,'t_end'] = pd.to_datetime(df.loc[select,'t_end_date'] + ' '+ df.loc[select,'t_end_time'])\n",
    "    \n",
    "    \n",
    "    #if final actual is also < start date, then assume 1 day of unavailability\n",
    "    select = df.t_end < df.t_start\n",
    "    df.loc[select,'t_end'] = df.loc[select,'t_start'] + timedelta(days=1)\n",
    "    \n",
    "    df['tid'] = ('9101' +  df['ATM'].str[-4:]).astype(int)\n",
    "\n",
    "    return df[['tid']+[col for col in df.columns if col[:2]=='t_' ]]"
   ]
  },
  {
   "cell_type": "code",
   "execution_count": 179,
   "metadata": {},
   "outputs": [],
   "source": [
    "# start = time()\n",
    "# year='2018'\n",
    "# path = 'D:/BUDS/ATM Tickets/'+year+'/'+year+'/'\n",
    "# comms = fix(get_comms(path),year).compute()\n",
    "# flm = fix(get_others(path,'FLM'),year).compute()\n",
    "# occf = fix(get_others(path,'OCCF'),year).compute()\n",
    "# slm = fix(get_others(path,'SLM'),year).compute()\n",
    "# df = pd.concat([occf,flm,slm,comms], ignore_index=True)\n",
    "# print(timedelta(seconds=time()-start))"
   ]
  },
  {
   "cell_type": "code",
   "execution_count": 180,
   "metadata": {},
   "outputs": [],
   "source": [
    "# slm[slm.t_no == 72015784]"
   ]
  },
  {
   "cell_type": "code",
   "execution_count": 181,
   "metadata": {},
   "outputs": [],
   "source": [
    "def year_(year):\n",
    "    path = 'D:/BUDS/ATM Tickets/'+year+'/'+year+'/'\n",
    "    comms = fix(get_comms(path),year)\n",
    "    flm = fix(get_others(path,'FLM'),year)\n",
    "    occf = fix(get_others(path,'OCCF'),year)\n",
    "    slm = fix(get_others(path,'SLM'),year)\n",
    "    \n",
    "    return [occf,comms,flm,slm]"
   ]
  },
  {
   "cell_type": "code",
   "execution_count": 182,
   "metadata": {},
   "outputs": [
    {
     "data": {
      "image/png": "[encoded data removed]",
      "text/plain": [
       "<IPython.core.display.Image object>"
      ]
     },
     "execution_count": 182,
     "metadata": {},
     "output_type": "execute_result"
    }
   ],
   "source": [
    "df = delayed(pd.concat)(year_('2017') + year_('2018') + year_('2019'), ignore_index=True)\n",
    "df.visualize()"
   ]
  },
  {
   "cell_type": "code",
   "execution_count": 183,
   "metadata": {},
   "outputs": [
    {
     "name": "stdout",
     "output_type": "stream",
     "text": [
      "0:05:17.046881\n"
     ]
    }
   ],
   "source": [
    "start = time()\n",
    "fin = df.compute()\n",
    "fin.sort_values(by=['tid','t_start'], ignore_index=True, inplace=True)\n",
    "fin.to_pickle(out+'Ticket_All_Raw.pkl')\n",
    "print(timedelta(seconds=time()-start))"
   ]
  },
  {
   "cell_type": "code",
   "execution_count": 184,
   "metadata": {},
   "outputs": [
    {
     "name": "stdout",
     "output_type": "stream",
     "text": [
      "<class 'pandas.core.frame.DataFrame'>\n",
      "RangeIndex: 1190494 entries, 0 to 1190493\n",
      "Data columns (total 13 columns):\n",
      " #   Column        Non-Null Count    Dtype         \n",
      "---  ------        --------------    -----         \n",
      " 0   tid           1190494 non-null  int32         \n",
      " 1   t_no          1190494 non-null  float64       \n",
      " 2   t_address     1190494 non-null  object        \n",
      " 3   t_city        1185445 non-null  object        \n",
      " 4   t_start_date  1190456 non-null  object        \n",
      " 5   t_start_time  1190456 non-null  object        \n",
      " 6   t_end_date    1177552 non-null  object        \n",
      " 7   t_end_time    1177552 non-null  object        \n",
      " 8   t_type        1190494 non-null  object        \n",
      " 9   t_end_date2   312066 non-null   object        \n",
      " 10  t_end_time2   312066 non-null   object        \n",
      " 11  t_start       1190494 non-null  datetime64[ns]\n",
      " 12  t_end         1190494 non-null  datetime64[ns]\n",
      "dtypes: datetime64[ns](2), float64(1), int32(1), object(9)\n",
      "memory usage: 113.5+ MB\n"
     ]
    }
   ],
   "source": [
    "fin.info()"
   ]
  },
  {
   "cell_type": "code",
   "execution_count": 21,
   "metadata": {},
   "outputs": [],
   "source": [
    "fin.sort_values(by=['tid','t_start'], ignore_index=True, inplace=True)\n",
    "fin.to_pickle(out+'80 Ticket_All_Raw.pkl')"
   ]
  },
  {
   "cell_type": "code",
   "execution_count": 22,
   "metadata": {},
   "outputs": [
    {
     "data": {
      "text/html": [
       "<div>\n",
       "<style scoped>\n",
       "    .dataframe tbody tr th:only-of-type {\n",
       "        vertical-align: middle;\n",
       "    }\n",
       "\n",
       "    .dataframe tbody tr th {\n",
       "        vertical-align: top;\n",
       "    }\n",
       "\n",
       "    .dataframe thead th {\n",
       "        text-align: right;\n",
       "    }\n",
       "</style>\n",
       "<table border=\"1\" class=\"dataframe\">\n",
       "  <thead>\n",
       "    <tr style=\"text-align: right;\">\n",
       "      <th></th>\n",
       "      <th>tid</th>\n",
       "      <th>t_no</th>\n",
       "      <th>t_address</th>\n",
       "      <th>t_city</th>\n",
       "      <th>t_start_date</th>\n",
       "      <th>t_start_time</th>\n",
       "      <th>t_end_date</th>\n",
       "      <th>t_end_time</th>\n",
       "      <th>t_type</th>\n",
       "      <th>t_end_date2</th>\n",
       "      <th>t_end_time2</th>\n",
       "      <th>t_start</th>\n",
       "      <th>t_end</th>\n",
       "      <th>t_start_2</th>\n",
       "      <th>t_end_2</th>\n",
       "      <th>t_merge</th>\n",
       "    </tr>\n",
       "  </thead>\n",
       "  <tbody>\n",
       "  </tbody>\n",
       "</table>\n",
       "</div>"
      ],
      "text/plain": [
       "Empty DataFrame\n",
       "Columns: [tid, t_no, t_address, t_city, t_start_date, t_start_time, t_end_date, t_end_time, t_type, t_end_date2, t_end_time2, t_start, t_end, t_start_2, t_end_2, t_merge]\n",
       "Index: []"
      ]
     },
     "execution_count": 22,
     "metadata": {},
     "output_type": "execute_result"
    }
   ],
   "source": [
    "fin[fin.t_start > fin.t_end]"
   ]
  },
  {
   "cell_type": "code",
   "execution_count": 25,
   "metadata": {
    "collapsed": true
   },
   "outputs": [
    {
     "data": {
      "text/html": [
       "<div>\n",
       "<style scoped>\n",
       "    .dataframe tbody tr th:only-of-type {\n",
       "        vertical-align: middle;\n",
       "    }\n",
       "\n",
       "    .dataframe tbody tr th {\n",
       "        vertical-align: top;\n",
       "    }\n",
       "\n",
       "    .dataframe thead th {\n",
       "        text-align: right;\n",
       "    }\n",
       "</style>\n",
       "<table border=\"1\" class=\"dataframe\">\n",
       "  <thead>\n",
       "    <tr style=\"text-align: right;\">\n",
       "      <th></th>\n",
       "      <th>tid</th>\n",
       "      <th>t_no</th>\n",
       "      <th>t_address</th>\n",
       "      <th>t_city</th>\n",
       "      <th>t_start_date</th>\n",
       "      <th>t_start_time</th>\n",
       "      <th>t_end_date</th>\n",
       "      <th>t_end_time</th>\n",
       "      <th>t_type</th>\n",
       "      <th>t_end_date2</th>\n",
       "      <th>t_end_time2</th>\n",
       "      <th>t_start</th>\n",
       "      <th>t_end</th>\n",
       "      <th>t_start_2</th>\n",
       "      <th>t_end_2</th>\n",
       "      <th>t_merge</th>\n",
       "    </tr>\n",
       "  </thead>\n",
       "  <tbody>\n",
       "    <tr>\n",
       "      <th>105</th>\n",
       "      <td>91010003</td>\n",
       "      <td>56779383</td>\n",
       "      <td>MATINA TOWN SQUARE</td>\n",
       "      <td>Davao City</td>\n",
       "      <td>2017-10-22 00:00:00</td>\n",
       "      <td>16:18:00</td>\n",
       "      <td>2017-10-22 00:00:00</td>\n",
       "      <td>16:18:00</td>\n",
       "      <td>SLM</td>\n",
       "      <td>NaN</td>\n",
       "      <td>NaN</td>\n",
       "      <td>2017-10-22 16:18:00</td>\n",
       "      <td>2017-10-22 16:18:00</td>\n",
       "      <td>2017-10-22 16:18:00</td>\n",
       "      <td>2017-10-22 16:18:00</td>\n",
       "      <td></td>\n",
       "    </tr>\n",
       "    <tr>\n",
       "      <th>117</th>\n",
       "      <td>91010003</td>\n",
       "      <td>58931104</td>\n",
       "      <td>MATINA TOWN SQUARE</td>\n",
       "      <td>Davao City</td>\n",
       "      <td>2017-12-15 00:00:00</td>\n",
       "      <td>14:41:00</td>\n",
       "      <td>2017-12-15 00:00:00</td>\n",
       "      <td>14:41:00</td>\n",
       "      <td>SLM</td>\n",
       "      <td>2017-12-15 00:00:00</td>\n",
       "      <td>14:41:00</td>\n",
       "      <td>2017-12-15 14:41:00</td>\n",
       "      <td>2017-12-15 14:41:00</td>\n",
       "      <td>2017-12-15 14:41:00</td>\n",
       "      <td>2017-12-15 14:41:00</td>\n",
       "      <td></td>\n",
       "    </tr>\n",
       "    <tr>\n",
       "      <th>120</th>\n",
       "      <td>91010003</td>\n",
       "      <td>59782371</td>\n",
       "      <td>MATINA TOWN SQUARE</td>\n",
       "      <td>Davao City</td>\n",
       "      <td>2018-01-20 00:00:00</td>\n",
       "      <td>16:19:00</td>\n",
       "      <td>2018-01-20 00:00:00</td>\n",
       "      <td>16:19:00</td>\n",
       "      <td>FLM</td>\n",
       "      <td>2018-01-20 00:00:00</td>\n",
       "      <td>16:19:00</td>\n",
       "      <td>2018-01-20 16:19:00</td>\n",
       "      <td>2018-01-20 16:19:00</td>\n",
       "      <td>2018-01-20 16:19:00</td>\n",
       "      <td>2018-01-20 16:19:00</td>\n",
       "      <td></td>\n",
       "    </tr>\n",
       "    <tr>\n",
       "      <th>121</th>\n",
       "      <td>91010003</td>\n",
       "      <td>59782371</td>\n",
       "      <td>MATINA TOWN SQUARE</td>\n",
       "      <td>Davao City</td>\n",
       "      <td>2018-01-20 00:00:00</td>\n",
       "      <td>16:19:00</td>\n",
       "      <td>2018-01-20 00:00:00</td>\n",
       "      <td>16:19:00</td>\n",
       "      <td>FLM</td>\n",
       "      <td>2018-01-20 00:00:00</td>\n",
       "      <td>16:19:00</td>\n",
       "      <td>2018-01-20 16:19:00</td>\n",
       "      <td>2018-01-20 16:19:00</td>\n",
       "      <td>2018-01-20 16:19:00</td>\n",
       "      <td>2018-01-20 16:19:00</td>\n",
       "      <td></td>\n",
       "    </tr>\n",
       "    <tr>\n",
       "      <th>122</th>\n",
       "      <td>91010003</td>\n",
       "      <td>59782371</td>\n",
       "      <td>MATINA TOWN SQUARE</td>\n",
       "      <td>Davao City</td>\n",
       "      <td>2018-01-20 00:00:00</td>\n",
       "      <td>16:19:00</td>\n",
       "      <td>2018-01-20 00:00:00</td>\n",
       "      <td>16:19:00</td>\n",
       "      <td>SLM</td>\n",
       "      <td>2018-01-20 00:00:00</td>\n",
       "      <td>16:19:00</td>\n",
       "      <td>2018-01-20 16:19:00</td>\n",
       "      <td>2018-01-20 16:19:00</td>\n",
       "      <td>2018-01-20 16:19:00</td>\n",
       "      <td>2018-01-20 16:19:00</td>\n",
       "      <td></td>\n",
       "    </tr>\n",
       "    <tr>\n",
       "      <th>...</th>\n",
       "      <td>...</td>\n",
       "      <td>...</td>\n",
       "      <td>...</td>\n",
       "      <td>...</td>\n",
       "      <td>...</td>\n",
       "      <td>...</td>\n",
       "      <td>...</td>\n",
       "      <td>...</td>\n",
       "      <td>...</td>\n",
       "      <td>...</td>\n",
       "      <td>...</td>\n",
       "      <td>...</td>\n",
       "      <td>...</td>\n",
       "      <td>...</td>\n",
       "      <td>...</td>\n",
       "      <td>...</td>\n",
       "    </tr>\n",
       "    <tr>\n",
       "      <th>1190364</th>\n",
       "      <td>91019999</td>\n",
       "      <td>73761862</td>\n",
       "      <td>EPSON LIPA OFF 3</td>\n",
       "      <td>Lipa</td>\n",
       "      <td>2018-12-07 00:00:00</td>\n",
       "      <td>16:24:00</td>\n",
       "      <td>2018-12-07 00:00:00</td>\n",
       "      <td>16:24:00</td>\n",
       "      <td>FLM</td>\n",
       "      <td>NaN</td>\n",
       "      <td>NaN</td>\n",
       "      <td>2018-12-07 16:24:00</td>\n",
       "      <td>2018-12-07 16:24:00</td>\n",
       "      <td>2018-12-07 16:24:00</td>\n",
       "      <td>2018-12-07 16:24:00</td>\n",
       "      <td></td>\n",
       "    </tr>\n",
       "    <tr>\n",
       "      <th>1190365</th>\n",
       "      <td>91019999</td>\n",
       "      <td>73795242</td>\n",
       "      <td>EPSON LIPA OFF 3</td>\n",
       "      <td>Lipa</td>\n",
       "      <td>2018-12-08 00:00:00</td>\n",
       "      <td>15:18:00</td>\n",
       "      <td>2018-12-08 00:00:00</td>\n",
       "      <td>15:18:00</td>\n",
       "      <td>FLM</td>\n",
       "      <td>NaN</td>\n",
       "      <td>NaN</td>\n",
       "      <td>2018-12-08 15:18:00</td>\n",
       "      <td>2018-12-08 15:18:00</td>\n",
       "      <td>2018-12-08 15:18:00</td>\n",
       "      <td>2018-12-08 15:18:00</td>\n",
       "      <td></td>\n",
       "    </tr>\n",
       "    <tr>\n",
       "      <th>1190367</th>\n",
       "      <td>91019999</td>\n",
       "      <td>73878221</td>\n",
       "      <td>EPSON LIPA OFF 3</td>\n",
       "      <td>Lipa</td>\n",
       "      <td>2018-12-11 00:00:00</td>\n",
       "      <td>06:27:00</td>\n",
       "      <td>2018-12-11 00:00:00</td>\n",
       "      <td>06:27:00</td>\n",
       "      <td>FLM</td>\n",
       "      <td>NaN</td>\n",
       "      <td>NaN</td>\n",
       "      <td>2018-12-11 06:27:00</td>\n",
       "      <td>2018-12-11 06:27:00</td>\n",
       "      <td>2018-12-11 06:27:00</td>\n",
       "      <td>2018-12-11 06:27:00</td>\n",
       "      <td></td>\n",
       "    </tr>\n",
       "    <tr>\n",
       "      <th>1190369</th>\n",
       "      <td>91019999</td>\n",
       "      <td>73886050</td>\n",
       "      <td>EPSON LIPA OFF 3</td>\n",
       "      <td>Lipa</td>\n",
       "      <td>2018-12-11 00:00:00</td>\n",
       "      <td>11:02:00</td>\n",
       "      <td>2018-12-11 00:00:00</td>\n",
       "      <td>11:02:00</td>\n",
       "      <td>FLM</td>\n",
       "      <td>NaN</td>\n",
       "      <td>NaN</td>\n",
       "      <td>2018-12-11 11:02:00</td>\n",
       "      <td>2018-12-11 11:02:00</td>\n",
       "      <td>2018-12-11 11:02:00</td>\n",
       "      <td>2018-12-11 11:02:00</td>\n",
       "      <td></td>\n",
       "    </tr>\n",
       "    <tr>\n",
       "      <th>1190370</th>\n",
       "      <td>91019999</td>\n",
       "      <td>73955466</td>\n",
       "      <td>EPSON LIPA OFF 3</td>\n",
       "      <td>Lipa</td>\n",
       "      <td>2018-12-13 00:00:00</td>\n",
       "      <td>09:03:00</td>\n",
       "      <td>2018-12-13 00:00:00</td>\n",
       "      <td>09:03:00</td>\n",
       "      <td>FLM</td>\n",
       "      <td>NaN</td>\n",
       "      <td>NaN</td>\n",
       "      <td>2018-12-13 09:03:00</td>\n",
       "      <td>2018-12-13 09:03:00</td>\n",
       "      <td>2018-12-13 09:03:00</td>\n",
       "      <td>2018-12-13 09:03:00</td>\n",
       "      <td></td>\n",
       "    </tr>\n",
       "  </tbody>\n",
       "</table>\n",
       "<p>73595 rows × 16 columns</p>\n",
       "</div>"
      ],
      "text/plain": [
       "              tid     t_no           t_address      t_city  \\\n",
       "105      91010003 56779383  MATINA TOWN SQUARE  Davao City   \n",
       "117      91010003 58931104  MATINA TOWN SQUARE  Davao City   \n",
       "120      91010003 59782371  MATINA TOWN SQUARE  Davao City   \n",
       "121      91010003 59782371  MATINA TOWN SQUARE  Davao City   \n",
       "122      91010003 59782371  MATINA TOWN SQUARE  Davao City   \n",
       "...           ...      ...                 ...         ...   \n",
       "1190364  91019999 73761862    EPSON LIPA OFF 3        Lipa   \n",
       "1190365  91019999 73795242    EPSON LIPA OFF 3        Lipa   \n",
       "1190367  91019999 73878221    EPSON LIPA OFF 3        Lipa   \n",
       "1190369  91019999 73886050    EPSON LIPA OFF 3        Lipa   \n",
       "1190370  91019999 73955466    EPSON LIPA OFF 3        Lipa   \n",
       "\n",
       "                t_start_date t_start_time           t_end_date t_end_time  \\\n",
       "105      2017-10-22 00:00:00     16:18:00  2017-10-22 00:00:00   16:18:00   \n",
       "117      2017-12-15 00:00:00     14:41:00  2017-12-15 00:00:00   14:41:00   \n",
       "120      2018-01-20 00:00:00     16:19:00  2018-01-20 00:00:00   16:19:00   \n",
       "121      2018-01-20 00:00:00     16:19:00  2018-01-20 00:00:00   16:19:00   \n",
       "122      2018-01-20 00:00:00     16:19:00  2018-01-20 00:00:00   16:19:00   \n",
       "...                      ...          ...                  ...        ...   \n",
       "1190364  2018-12-07 00:00:00     16:24:00  2018-12-07 00:00:00   16:24:00   \n",
       "1190365  2018-12-08 00:00:00     15:18:00  2018-12-08 00:00:00   15:18:00   \n",
       "1190367  2018-12-11 00:00:00     06:27:00  2018-12-11 00:00:00   06:27:00   \n",
       "1190369  2018-12-11 00:00:00     11:02:00  2018-12-11 00:00:00   11:02:00   \n",
       "1190370  2018-12-13 00:00:00     09:03:00  2018-12-13 00:00:00   09:03:00   \n",
       "\n",
       "        t_type          t_end_date2 t_end_time2             t_start  \\\n",
       "105        SLM                  NaN         NaN 2017-10-22 16:18:00   \n",
       "117        SLM  2017-12-15 00:00:00    14:41:00 2017-12-15 14:41:00   \n",
       "120        FLM  2018-01-20 00:00:00    16:19:00 2018-01-20 16:19:00   \n",
       "121        FLM  2018-01-20 00:00:00    16:19:00 2018-01-20 16:19:00   \n",
       "122        SLM  2018-01-20 00:00:00    16:19:00 2018-01-20 16:19:00   \n",
       "...        ...                  ...         ...                 ...   \n",
       "1190364    FLM                  NaN         NaN 2018-12-07 16:24:00   \n",
       "1190365    FLM                  NaN         NaN 2018-12-08 15:18:00   \n",
       "1190367    FLM                  NaN         NaN 2018-12-11 06:27:00   \n",
       "1190369    FLM                  NaN         NaN 2018-12-11 11:02:00   \n",
       "1190370    FLM                  NaN         NaN 2018-12-13 09:03:00   \n",
       "\n",
       "                      t_end           t_start_2             t_end_2 t_merge  \n",
       "105     2017-10-22 16:18:00 2017-10-22 16:18:00 2017-10-22 16:18:00          \n",
       "117     2017-12-15 14:41:00 2017-12-15 14:41:00 2017-12-15 14:41:00          \n",
       "120     2018-01-20 16:19:00 2018-01-20 16:19:00 2018-01-20 16:19:00          \n",
       "121     2018-01-20 16:19:00 2018-01-20 16:19:00 2018-01-20 16:19:00          \n",
       "122     2018-01-20 16:19:00 2018-01-20 16:19:00 2018-01-20 16:19:00          \n",
       "...                     ...                 ...                 ...     ...  \n",
       "1190364 2018-12-07 16:24:00 2018-12-07 16:24:00 2018-12-07 16:24:00          \n",
       "1190365 2018-12-08 15:18:00 2018-12-08 15:18:00 2018-12-08 15:18:00          \n",
       "1190367 2018-12-11 06:27:00 2018-12-11 06:27:00 2018-12-11 06:27:00          \n",
       "1190369 2018-12-11 11:02:00 2018-12-11 11:02:00 2018-12-11 11:02:00          \n",
       "1190370 2018-12-13 09:03:00 2018-12-13 09:03:00 2018-12-13 09:03:00          \n",
       "\n",
       "[73595 rows x 16 columns]"
      ]
     },
     "execution_count": 25,
     "metadata": {},
     "output_type": "execute_result"
    }
   ],
   "source": [
    "fin[fin.t_start >= fin.t_end]"
   ]
  },
  {
   "cell_type": "code",
   "execution_count": 4,
   "metadata": {},
   "outputs": [],
   "source": [
    "# fin = pd.read_pickle(out+'80 Ticket_All_Raw.pkl')"
   ]
  },
  {
   "cell_type": "markdown",
   "metadata": {},
   "source": [
    "### Step 2: Merge time duration"
   ]
  },
  {
   "cell_type": "code",
   "execution_count": 5,
   "metadata": {},
   "outputs": [],
   "source": [
    "fin['t_start_2'] = fin.t_start\n",
    "fin['t_end_2'] = fin.t_end\n",
    "fin['t_merge'] = ''"
   ]
  },
  {
   "cell_type": "code",
   "execution_count": 393,
   "metadata": {},
   "outputs": [],
   "source": [
    "\n",
    "def merge_time(df):\n",
    "    \n",
    "#For each ticket of a TID, check if the start date is within the end date of previous ticket\n",
    "#if so, get the start date of the previous ticket as new start date. \n",
    "    for i in df.index[1:]:\n",
    "        if df.t_start[i] <= df.t_end_2[i-1]:\n",
    "            df.t_end_2[i] = max(df.t_end_2[i-1], df.t_end[i])\n",
    "            df.t_start_2[i] = df.t_start_2[i-1]\n",
    "            df.t_merge[i] = 'yes'\n",
    "            \n",
    "    df = df.groupby(['tid','t_start_2']).t_end_2.agg(['min','count']).reset_index()\n",
    "    df.columns = ['tid','t_start','t_end','t_count']\n",
    "    df['t_duration'] = df.t_end - df.t_start\n",
    "    \n",
    "#for those with duration more than 1 day\n",
    "#create new tickets for each day\n",
    "    fin_ticket = df.groupby(by=['tid','t_start']).t_end.agg(['min']).reset_index()\n",
    "    fin_ticket.columns = ['tid','t_start','t_end']\n",
    "\n",
    "    fin_ticket['t_duration'] = fin_ticket.t_end - fin_ticket.t_start\n",
    "    fin_ticket['t_duration_hr'] = (fin_ticket.t_duration / np.timedelta64(1,'h')).astype(int)\n",
    "    fin_ticket['t_end_temp0'] = fin_ticket.t_end\n",
    "    \n",
    "    #for those that spans to next day, assign end of ticket as end of the day\n",
    "    #generate new ticket for the rest.\n",
    "    select = fin_ticket.t_start.dt.date != fin_ticket.t_end.dt.date \n",
    "    if sum(select) > 0:\n",
    "        fin_ticket.loc[select,'t_end_temp0'] = pd.to_datetime(fin_ticket.loc[select,'t_start'].dt.date + timedelta(days=1))\n",
    "        days_start = pd.DataFrame([[\n",
    "                                fin_ticket.tid[i],\n",
    "                                fin_ticket.t_end_temp0[i],\n",
    "                                fin_ticket.t_end[i],\n",
    "                                fin_ticket.t_end[i]] for i in fin_ticket[select].index],\n",
    "                        columns=['tid','t_start','t_end','t_end_temp0'])\n",
    "    \n",
    "        fin_ticket = pd.concat([fin_ticket, days_start]).sort_values(by=['tid','t_start','t_end_temp0']).reset_index(drop=True)\n",
    "    \n",
    "    fin_ticket['t_duration'] = fin_ticket.t_end_temp0 - fin_ticket.t_start\n",
    "    fin_ticket['t_end_temp'] = fin_ticket.t_end_temp0\n",
    "    fin_ticket['t_duration_temp'] = fin_ticket['t_duration']\n",
    "    \n",
    "    select = fin_ticket.t_duration >= timedelta(days=1)\n",
    "    if sum(select) > 0:\n",
    "        fin_ticket.loc[select,'t_end_temp'] = pd.to_datetime(fin_ticket.loc[select,'t_start'].dt.date + timedelta(days=1))\n",
    "        fin_ticket.loc[select,'t_duration_temp'] = fin_ticket.loc[select,'t_end_temp0'] - fin_ticket.loc[select,'t_end_temp']\n",
    "        \n",
    "        days = pd.concat(\n",
    "            pd.DataFrame([[fin_ticket.tid[i], \n",
    "                           fin_ticket.t_end_temp[i] + timedelta(days=n), \n",
    "                           fin_ticket.t_end_temp[i] + timedelta(days=n+1)] \n",
    "                             for n in range(fin_ticket.t_duration_temp[i].days)],\n",
    "                        columns=['tid','t_start','t_end_temp'])\n",
    "                        for i in fin_ticket[select].index)\n",
    "        \n",
    "\n",
    "    select = (select) & (fin_ticket.t_duration_temp.dt.components.hours > 0)\n",
    "    \n",
    "    if sum(select)  > 0:  \n",
    "        fin_ticket.loc[select,'t_end_temp'] = pd.to_datetime(fin_ticket.loc[select,'t_start'].dt.date + timedelta(days=1))\n",
    "        days_partial = pd.concat(\n",
    "            pd.DataFrame([[fin_ticket.tid[i], \n",
    "                           pd.to_datetime(fin_ticket.t_end_temp.dt.date[i] + timedelta(days=fin_ticket.t_duration_temp[i].days)), \n",
    "                           fin_ticket.t_end_temp0[i]] \n",
    "                         ],\n",
    "                        columns=['tid','t_start','t_end_temp'])\n",
    "                        for i in fin_ticket[select].index.values)\n",
    "\n",
    "        extra_rows = pd.concat([days,days_partial]).sort_values(['tid','t_start','t_end_temp'])\n",
    "\n",
    "        finally_ = pd.concat([fin_ticket,extra_rows]).sort_values(['tid','t_start','t_end_temp']) \\\n",
    "                        [['tid','t_start','t_end_temp']].reset_index(drop=True)\n",
    "        finally_.columns = ['tid','t_start','t_end']\n",
    "        finally_['t_duration'] = finally_.t_end - finally_.t_start\n",
    "    \n",
    "    else:\n",
    "        finally_ = fin_ticket[['tid','t_start','t_end','t_duration']].reset_index(drop=True).copy()\n",
    "    \n",
    "    return df, finally_, fin_ticket\n",
    "#     return df, fin_ticket"
   ]
  },
  {
   "cell_type": "code",
   "execution_count": 394,
   "metadata": {},
   "outputs": [
    {
     "name": "stderr",
     "output_type": "stream",
     "text": [
      "C:\\ProgramData\\Anaconda3\\lib\\site-packages\\ipykernel_launcher.py:7: SettingWithCopyWarning: \n",
      "A value is trying to be set on a copy of a slice from a DataFrame\n",
      "\n",
      "See the caveats in the documentation: https://pandas.pydata.org/pandas-docs/stable/user_guide/indexing.html#returning-a-view-versus-a-copy\n",
      "  import sys\n",
      "C:\\ProgramData\\Anaconda3\\lib\\site-packages\\ipykernel_launcher.py:8: SettingWithCopyWarning: \n",
      "A value is trying to be set on a copy of a slice from a DataFrame\n",
      "\n",
      "See the caveats in the documentation: https://pandas.pydata.org/pandas-docs/stable/user_guide/indexing.html#returning-a-view-versus-a-copy\n",
      "  \n",
      "C:\\ProgramData\\Anaconda3\\lib\\site-packages\\ipykernel_launcher.py:9: SettingWithCopyWarning: \n",
      "A value is trying to be set on a copy of a slice from a DataFrame\n",
      "\n",
      "See the caveats in the documentation: https://pandas.pydata.org/pandas-docs/stable/user_guide/indexing.html#returning-a-view-versus-a-copy\n",
      "  if __name__ == '__main__':\n"
     ]
    }
   ],
   "source": [
    "df,finally_,fin_ticket = merge_time(fin[fin.tid==91010003][['tid','t_start','t_end','t_start_2','t_end_2','t_merge']])"
   ]
  },
  {
   "cell_type": "code",
   "execution_count": 395,
   "metadata": {},
   "outputs": [
    {
     "name": "stdout",
     "output_type": "stream",
     "text": [
      "0:00:08.331949\n"
     ]
    }
   ],
   "source": [
    "start = time()\n",
    "dbdf = db.from_sequence([fin[fin.tid == i][['tid','t_start','t_end','t_start_2','t_end_2','t_merge']] for i in fin.tid.unique()])\n",
    "dbmaster = dbdf.map(merge_time)\n",
    "print(timedelta(seconds=time()-start))"
   ]
  },
  {
   "cell_type": "code",
   "execution_count": 396,
   "metadata": {},
   "outputs": [
    {
     "name": "stdout",
     "output_type": "stream",
     "text": [
      "0:01:36.182395\n"
     ]
    }
   ],
   "source": [
    "start = time()\n",
    "a = dbmaster.compute()\n",
    "print(timedelta(seconds=time()-start))"
   ]
  },
  {
   "cell_type": "code",
   "execution_count": 216,
   "metadata": {},
   "outputs": [
    {
     "data": {
      "text/plain": [
       "2784"
      ]
     },
     "execution_count": 216,
     "metadata": {},
     "output_type": "execute_result"
    }
   ],
   "source": [
    "fin.tid.nunique()"
   ]
  },
  {
   "cell_type": "code",
   "execution_count": 397,
   "metadata": {},
   "outputs": [],
   "source": [
    "ticket_orig = pd.concat([a[i][0] for i in range(fin.tid.nunique())], ignore_index=True)\n",
    "ticket_new_gen = pd.concat([a[i][1] for i in range(fin.tid.nunique())], ignore_index=True)\n",
    "\n",
    "ticket_new_gen['t_duration_hr'] = (ticket_new_gen.t_duration / np.timedelta64(1,'h')).astype(int)\n",
    "ticket_new_gen_dur = ticket_new_gen.groupby(['tid',ticket_new_gen.t_start.dt.date]).t_duration_hr.sum().reset_index()"
   ]
  },
  {
   "cell_type": "code",
   "execution_count": 407,
   "metadata": {},
   "outputs": [],
   "source": [
    "ticket_orig.to_pickle(out+'80 Ticket_All_Raw_Dur.pkl')"
   ]
  },
  {
   "cell_type": "code",
   "execution_count": 410,
   "metadata": {},
   "outputs": [],
   "source": [
    "ticket_new_gen.to_pickle(out+'80 Ticket_All_Per_Day.pkl')\n",
    "ticket_new_gen_dur.to_pickle(out+'80 Ticket_All_Per_Day_Dur.pkl')"
   ]
  },
  {
   "cell_type": "code",
   "execution_count": 400,
   "metadata": {
    "scrolled": true
   },
   "outputs": [
    {
     "data": {
      "text/plain": [
       "<matplotlib.axes._subplots.AxesSubplot at 0x1712870eef0>"
      ]
     },
     "execution_count": 400,
     "metadata": {},
     "output_type": "execute_result"
    },
    {
     "data": {
      "image/png": "[encoded data removed]",
      "text/plain": [
       "<Figure size 432x288 with 1 Axes>"
      ]
     },
     "metadata": {
      "needs_background": "light"
     },
     "output_type": "display_data"
    }
   ],
   "source": [
    "ticket_new_gen_dur.t_duration_hr.hist()"
   ]
  },
  {
   "cell_type": "code",
   "execution_count": null,
   "metadata": {},
   "outputs": [],
   "source": []
  }
 ],
 "metadata": {
  "kernelspec": {
   "display_name": "Python 3",
   "language": "python",
   "name": "python3"
  },
  "language_info": {
   "codemirror_mode": {
    "name": "ipython",
    "version": 3
   },
   "file_extension": ".py",
   "mimetype": "text/x-python",
   "name": "python",
   "nbconvert_exporter": "python",
   "pygments_lexer": "ipython3",
   "version": "3.7.3"
  }
 },
 "nbformat": 4,
 "nbformat_minor": 4
}
